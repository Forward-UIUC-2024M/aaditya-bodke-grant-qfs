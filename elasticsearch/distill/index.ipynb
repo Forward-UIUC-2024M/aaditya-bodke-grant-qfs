{
 "cells": [
  {
   "cell_type": "markdown",
   "metadata": {},
   "source": [
    "# SEMANTIC INDEXING WITH NORMALIZED DOCUMENTS\n",
    "\n",
    "## This notebook defines a step-by-step procedure for semantic indexing data in ElasticSearch.\n",
    "\n",
    "First we import the required libraries and set the important variables"
   ]
  },
  {
   "cell_type": "code",
   "execution_count": 1,
   "metadata": {},
   "outputs": [],
   "source": [
    "import sys\n",
    "sys.path.append('../')\n",
    "from elasticsearch import Elasticsearch, exceptions, NotFoundError, helpers\n",
    "from time import sleep\n",
    "import xmltodict\n",
    "from mappings import mappings\n",
    "from ingest_pipeline import get_ingest_pipeline\n",
    "import json\n",
    "import os\n",
    "from openai import OpenAI\n",
    "from lxml import etree\n",
    "from utils import data_utils, index_utils, embed_utils\n",
    "import numpy as np\n",
    "from textwrap import fill\n",
    "from dotenv import load_dotenv\n",
    "from tiktoken import get_encoding\n",
    "from itertools import islice\n",
    "import re\n",
    "\n",
    "# Load environment variables from the .env file\n",
    "load_dotenv()\n",
    "\n",
    "# Get sensitive configuration from .env file or define as environment variables\n",
    "ELASTICSEARCH_URL = os.getenv('ELASTICSEARCH_URL')\n",
    "ELASTIC_USERNAME = os.getenv('ELASTIC_USERNAME')\n",
    "ELASTIC_PASSWORD = os.getenv('ELASTIC_PASSWORD')\n",
    "OPENAI_KEY = os.getenv('OPENAI_KEY')\n",
    "\n",
    "# Define other configuration variables\n",
    "INDEX_NAME = 'distill_index'\n",
    "\n",
    "\n",
    "OAIclient = OpenAI(api_key=OPENAI_KEY)"
   ]
  },
  {
   "cell_type": "markdown",
   "metadata": {},
   "source": [
    "## Data preparation\n",
    "\n",
    "Point variables to the XML and XSD files of the grants data."
   ]
  },
  {
   "cell_type": "code",
   "execution_count": 3,
   "metadata": {},
   "outputs": [],
   "source": [
    "GRANTS_FILE = '../data/grants-20230602.xml'\n",
    "GRANTS_SCHEMA = '../data/grants-20230530.xsd'"
   ]
  },
  {
   "cell_type": "markdown",
   "metadata": {},
   "source": [
    "Validate the XML file using the schema defined in XSD file.\n",
    "\n",
    "Go through the errors, if any, to ensure they are not critical."
   ]
  },
  {
   "cell_type": "code",
   "execution_count": 4,
   "metadata": {},
   "outputs": [
    {
     "name": "stdout",
     "output_type": "stream",
     "text": [
      "XML is not valid according to XSD: <string>:1376624:0:ERROR:SCHEMASV:SCHEMAV_CVC_DATATYPE_VALID_1_2_1: Element 'is_limited': 'None' is not a valid value of the atomic type 'xs:integer'.\n",
      "<string>:1377711:0:ERROR:SCHEMASV:SCHEMAV_CVC_DATATYPE_VALID_1_2_1: Element 'is_limited': 'None' is not a valid value of the atomic type 'xs:integer'.\n",
      "<string>:1389856:0:ERROR:SCHEMASV:SCHEMAV_CVC_DATATYPE_VALID_1_2_1: Element 'is_limited': 'None' is not a valid value of the atomic type 'xs:integer'.\n",
      "<string>:1389913:0:ERROR:SCHEMASV:SCHEMAV_CVC_DATATYPE_VALID_1_2_1: Element 'is_limited': 'None' is not a valid value of the atomic type 'xs:integer'.\n",
      "<string>:1389959:0:ERROR:SCHEMASV:SCHEMAV_CVC_DATATYPE_VALID_1_2_1: Element 'is_limited': 'None' is not a valid value of the atomic type 'xs:integer'.\n",
      "<string>:1390059:0:ERROR:SCHEMASV:SCHEMAV_CVC_DATATYPE_VALID_1_2_1: Element 'is_limited': 'None' is not a valid value of the atomic type 'xs:integer'.\n",
      "<string>:1390140:0:ERROR:SCHEMASV:SCHEMAV_CVC_DATATYPE_VALID_1_2_1: Element 'is_limited': 'None' is not a valid value of the atomic type 'xs:integer'.\n",
      "<string>:1390379:0:ERROR:SCHEMASV:SCHEMAV_CVC_DATATYPE_VALID_1_2_1: Element 'is_limited': 'None' is not a valid value of the atomic type 'xs:integer'.\n",
      "<string>:1392530:0:ERROR:SCHEMASV:SCHEMAV_CVC_DATATYPE_VALID_1_2_1: Element 'is_limited': 'None' is not a valid value of the atomic type 'xs:integer'.\n",
      "<string>:1394847:0:ERROR:SCHEMASV:SCHEMAV_CVC_DATATYPE_VALID_1_2_1: Element 'is_limited': 'None' is not a valid value of the atomic type 'xs:integer'.\n",
      "<string>:1397903:0:ERROR:SCHEMASV:SCHEMAV_CVC_DATATYPE_VALID_1_2_1: Element 'is_limited': 'None' is not a valid value of the atomic type 'xs:integer'.\n",
      "<string>:1399932:0:ERROR:SCHEMASV:SCHEMAV_CVC_DATATYPE_VALID_1_2_1: Element 'is_limited': 'None' is not a valid value of the atomic type 'xs:integer'.\n",
      "<string>:1401332:0:ERROR:SCHEMASV:SCHEMAV_CVC_DATATYPE_VALID_1_2_1: Element 'is_limited': 'None' is not a valid value of the atomic type 'xs:integer'.\n",
      "<string>:1402003:0:ERROR:SCHEMASV:SCHEMAV_CVC_DATATYPE_VALID_1_2_1: Element 'is_limited': 'None' is not a valid value of the atomic type 'xs:integer'.\n",
      "<string>:1417088:0:ERROR:SCHEMASV:SCHEMAV_CVC_DATATYPE_VALID_1_2_1: Element 'is_limited': 'None' is not a valid value of the atomic type 'xs:integer'.\n",
      "<string>:1435140:0:ERROR:SCHEMASV:SCHEMAV_CVC_DATATYPE_VALID_1_2_1: Element 'is_limited': 'None' is not a valid value of the atomic type 'xs:integer'.\n",
      "<string>:1435173:0:ERROR:SCHEMASV:SCHEMAV_CVC_DATATYPE_VALID_1_2_1: Element 'is_limited': 'None' is not a valid value of the atomic type 'xs:integer'.\n",
      "<string>:1435206:0:ERROR:SCHEMASV:SCHEMAV_CVC_DATATYPE_VALID_1_2_1: Element 'is_limited': 'None' is not a valid value of the atomic type 'xs:integer'.\n",
      "<string>:1435239:0:ERROR:SCHEMASV:SCHEMAV_CVC_DATATYPE_VALID_1_2_1: Element 'is_limited': 'None' is not a valid value of the atomic type 'xs:integer'.\n",
      "<string>:1435282:0:ERROR:SCHEMASV:SCHEMAV_CVC_DATATYPE_VALID_1_2_1: Element 'is_limited': 'None' is not a valid value of the atomic type 'xs:integer'.\n",
      "<string>:1440941:0:ERROR:SCHEMASV:SCHEMAV_CVC_DATATYPE_VALID_1_2_1: Element 'is_limited': 'None' is not a valid value of the atomic type 'xs:integer'.\n",
      "<string>:1441386:0:ERROR:SCHEMASV:SCHEMAV_CVC_DATATYPE_VALID_1_2_1: Element 'is_limited': 'None' is not a valid value of the atomic type 'xs:integer'.\n",
      "<string>:1486312:0:ERROR:SCHEMASV:SCHEMAV_CVC_DATATYPE_VALID_1_2_1: Element 'is_limited': 'None' is not a valid value of the atomic type 'xs:integer'.\n",
      "<string>:1516040:0:ERROR:SCHEMASV:SCHEMAV_CVC_DATATYPE_VALID_1_2_1: Element 'is_limited': 'None' is not a valid value of the atomic type 'xs:integer'.\n",
      "<string>:1537340:0:ERROR:SCHEMASV:SCHEMAV_CVC_DATATYPE_VALID_1_2_1: Element 'is_limited': 'None' is not a valid value of the atomic type 'xs:integer'.\n",
      "<string>:1586361:0:ERROR:SCHEMASV:SCHEMAV_CVC_DATATYPE_VALID_1_2_1: Element 'is_limited': 'None' is not a valid value of the atomic type 'xs:integer'.\n",
      "<string>:1616129:0:ERROR:SCHEMASV:SCHEMAV_CVC_DATATYPE_VALID_1_2_1: Element 'is_limited': 'None' is not a valid value of the atomic type 'xs:integer'.\n",
      "<string>:1616164:0:ERROR:SCHEMASV:SCHEMAV_CVC_DATATYPE_VALID_1_2_1: Element 'is_limited': 'None' is not a valid value of the atomic type 'xs:integer'.\n",
      "<string>:1616197:0:ERROR:SCHEMASV:SCHEMAV_CVC_DATATYPE_VALID_1_2_1: Element 'is_limited': 'None' is not a valid value of the atomic type 'xs:integer'.\n",
      "<string>:1616230:0:ERROR:SCHEMASV:SCHEMAV_CVC_DATATYPE_VALID_1_2_1: Element 'is_limited': 'None' is not a valid value of the atomic type 'xs:integer'.\n",
      "<string>:1617025:0:ERROR:SCHEMASV:SCHEMAV_CVC_DATATYPE_VALID_1_2_1: Element 'is_limited': 'None' is not a valid value of the atomic type 'xs:integer'.\n",
      "<string>:1622563:0:ERROR:SCHEMASV:SCHEMAV_CVC_DATATYPE_VALID_1_2_1: Element 'is_limited': 'None' is not a valid value of the atomic type 'xs:integer'.\n",
      "<string>:1679807:0:ERROR:SCHEMASV:SCHEMAV_CVC_DATATYPE_VALID_1_2_1: Element 'is_limited': 'None' is not a valid value of the atomic type 'xs:integer'.\n",
      "<string>:1824650:0:ERROR:SCHEMASV:SCHEMAV_CVC_DATATYPE_VALID_1_2_1: Element 'is_limited': 'None' is not a valid value of the atomic type 'xs:integer'.\n",
      "<string>:1837377:0:ERROR:SCHEMASV:SCHEMAV_CVC_DATATYPE_VALID_1_2_1: Element 'is_limited': 'None' is not a valid value of the atomic type 'xs:integer'.\n",
      "<string>:1837436:0:ERROR:SCHEMASV:SCHEMAV_CVC_DATATYPE_VALID_1_2_1: Element 'is_limited': 'None' is not a valid value of the atomic type 'xs:integer'.\n",
      "<string>:1913677:0:ERROR:SCHEMASV:SCHEMAV_CVC_DATATYPE_VALID_1_2_1: Element 'is_limited': 'None' is not a valid value of the atomic type 'xs:integer'.\n",
      "<string>:1913786:0:ERROR:SCHEMASV:SCHEMAV_CVC_DATATYPE_VALID_1_2_1: Element 'is_limited': 'None' is not a valid value of the atomic type 'xs:integer'.\n",
      "<string>:1913915:0:ERROR:SCHEMASV:SCHEMAV_CVC_DATATYPE_VALID_1_2_1: Element 'is_limited': 'None' is not a valid value of the atomic type 'xs:integer'.\n",
      "<string>:1914019:0:ERROR:SCHEMASV:SCHEMAV_CVC_DATATYPE_VALID_1_2_1: Element 'is_limited': 'None' is not a valid value of the atomic type 'xs:integer'.\n",
      "<string>:2062413:0:ERROR:SCHEMASV:SCHEMAV_CVC_DATATYPE_VALID_1_2_1: Element 'is_limited': 'None' is not a valid value of the atomic type 'xs:integer'.\n",
      "<string>:2313305:0:ERROR:SCHEMASV:SCHEMAV_CVC_DATATYPE_VALID_1_2_1: Element 'is_limited': 'None' is not a valid value of the atomic type 'xs:integer'.\n",
      "<string>:2337225:0:ERROR:SCHEMASV:SCHEMAV_CVC_DATATYPE_VALID_1_2_1: Element 'is_limited': 'None' is not a valid value of the atomic type 'xs:integer'.\n",
      "<string>:2443098:0:ERROR:SCHEMASV:SCHEMAV_CVC_DATATYPE_VALID_1_2_1: Element 'is_limited': 'None' is not a valid value of the atomic type 'xs:integer'.\n",
      "<string>:2499412:0:ERROR:SCHEMASV:SCHEMAV_CVC_DATATYPE_VALID_1_2_1: Element 'grant_source_url': 'https://lamont.columbia.edu/education-outreach/student-summer-opportunities-intern-programs#!#cu_accordion_item-592' is not a valid value of the atomic type 'xs:anyURI'.\n",
      "<string>:2621186:0:ERROR:SCHEMASV:SCHEMAV_CVC_DATATYPE_VALID_1_2_1: Element 'grant_source_url': 'https://www.mainstreetfoundation.org/apply-for-grant#General%20Grant%20Cyclehttps://www.mainstreetfoundation.org/apply-for-grant#General%20Grant%20Cycle' is not a valid value of the atomic type 'xs:anyURI'.\n",
      "<string>:2624570:0:ERROR:SCHEMASV:SCHEMAV_CVC_DATATYPE_VALID_1_2_1: Element 'grant_source_url': 'https://www.amsmusicology.org/page/Holmes_Daccone?&hhsearchterms=%22william+and+holmes+and+%2f+and+frank+and+d%u2019accone+and+endowment%22' is not a valid value of the atomic type 'xs:anyURI'.\n",
      "<string>:2722223:0:ERROR:SCHEMASV:SCHEMAV_CVC_DATATYPE_VALID_1_2_1: Element 'grant_source_url': 'https://www.scbwi.org/awards/book-launch-grant/?speaker_name=&ampbook_title=&ampbook_topics=&ampgrade_levels[]=&ampzip=&ampregion_id=&ampsort=&amprpp=&ampptg=' is not a valid value of the atomic type 'xs:anyURI'.\n",
      "<string>:2744539:0:ERROR:SCHEMASV:SCHEMAV_CVC_DATATYPE_VALID_1_2_1: Element 'grant_source_url': 'https://lamont.columbia.edu/education-outreach/student-summer-opportunities-intern-programs#!#cu_accordion_item-589' is not a valid value of the atomic type 'xs:anyURI'.\n",
      "<string>:2947752:0:ERROR:SCHEMASV:SCHEMAV_CVC_DATATYPE_VALID_1_2_1: Element 'is_limited': 'None' is not a valid value of the atomic type 'xs:integer'.\n",
      "<string>:2991749:0:ERROR:SCHEMASV:SCHEMAV_CVC_DATATYPE_VALID_1_2_1: Element 'is_limited': 'None' is not a valid value of the atomic type 'xs:integer'.\n",
      "<string>:3474043:0:ERROR:SCHEMASV:SCHEMAV_CVC_DATATYPE_VALID_1_2_1: Element 'is_limited': 'None' is not a valid value of the atomic type 'xs:integer'.\n",
      "<string>:4312542:0:ERROR:SCHEMASV:SCHEMAV_CVC_DATATYPE_VALID_1_2_1: Element 'grant_source_url': 'https://afsp.org/research-grant-information#2022-grant-cyclehttps://afsp.org/research-grant-information#2022-grant-cycle' is not a valid value of the atomic type 'xs:anyURI'.\n",
      "<string>:6629138:0:ERROR:SCHEMASV:SCHEMAV_CVC_DATATYPE_VALID_1_2_1: Element 'grant_source_url': 'https://www.tourism.wa.gov.au/industry-support-and-events/resources-for-event-holders/Funding-for-regional-events/Pages/Regional-Events-Program-funding.aspx#/#%23%2F' is not a valid value of the atomic type 'xs:anyURI'.\n"
     ]
    }
   ],
   "source": [
    "# Validate the XML file using schema\n",
    "data_utils.validate_xml_with_xsd(GRANTS_FILE, GRANTS_SCHEMA)"
   ]
  },
  {
   "cell_type": "markdown",
   "metadata": {},
   "source": [
    "Convert XML data to dict format using function in data_utils."
   ]
  },
  {
   "cell_type": "code",
   "execution_count": 5,
   "metadata": {},
   "outputs": [
    {
     "name": "stdout",
     "output_type": "stream",
     "text": [
      "Number of grants = 92308\n"
     ]
    }
   ],
   "source": [
    "dict_data = data_utils.parse_xml_to_dict(GRANTS_FILE)\n",
    "\n",
    "# Print data\n",
    "# with open('grants.json', 'w') as f: \n",
    "#     json.dump(dict_data, f)\n",
    "# with open('grants.json', 'r') as f: \n",
    "#     json_data = json.load(f)\n",
    "\n",
    "print(f\"Number of grants = {len(dict_data['grants_data']['grant'])}\")"
   ]
  },
  {
   "cell_type": "markdown",
   "metadata": {},
   "source": [
    "Clean the data using function in data_utils. This function renames some fields and converts to required format."
   ]
  },
  {
   "cell_type": "code",
   "execution_count": 6,
   "metadata": {},
   "outputs": [],
   "source": [
    "dict_data = data_utils.clean_dict_data(dict_data)"
   ]
  },
  {
   "cell_type": "code",
   "execution_count": 7,
   "metadata": {},
   "outputs": [
    {
     "name": "stdout",
     "output_type": "stream",
     "text": [
      "dict_keys(['@id', 'url', 'amount_info', 'site_grant_type', 'modified_date', 'application_url', 'title', 'all_titles', 'submission_info', 'all_grant_source_urls', 'status', 'description',\n",
      "'eligibility', 'categories_display', 'limited_grant_info', 'user_categories', 'submit_date', 'is_limited', 'site_categories', 'cost_sharing', 'grant_source_url', 'deadlines', 'amounts', 'all_types',\n",
      "'all_applicant_types', 'locations', 'sponsors'])\n"
     ]
    }
   ],
   "source": [
    "print(fill(str(dict_data['grants_data']['grant'][0].keys()), width=200))"
   ]
  },
  {
   "cell_type": "markdown",
   "metadata": {},
   "source": [
    "### Adding normalized summaries (This is an expensive operation!)\n",
    "\n",
    "Since  generating embeddings for long documents has several drawbacks, we developed a document normalization method - \n",
    "1. use an LLM to generate detail-rich, structured summaries for all documents.\n",
    "2. generate embeddings for these normalized documents and add to the index.\n",
    "3. perform approximate kNN using the 'normalized embeddings'."
   ]
  },
  {
   "cell_type": "code",
   "execution_count": 9,
   "metadata": {},
   "outputs": [
    {
     "name": "stdout",
     "output_type": "stream",
     "text": [
      "Processed 0 grants\n",
      "Processed 100 grants\n",
      "Processed 200 grants\n",
      "Processed 300 grants\n",
      "Processed 400 grants\n",
      "Processed 500 grants\n",
      "Processed 600 grants\n",
      "Processed 700 grants\n",
      "Processed 800 grants\n",
      "Processed 900 grants\n",
      "Processed 1000 grants\n",
      "Processed 1100 grants\n",
      "Processed 1200 grants\n"
     ]
    },
    {
     "ename": "KeyboardInterrupt",
     "evalue": "",
     "output_type": "error",
     "traceback": [
      "\u001b[0;31m---------------------------------------------------------------------------\u001b[0m",
      "\u001b[0;31mKeyboardInterrupt\u001b[0m                         Traceback (most recent call last)",
      "Cell \u001b[0;32mIn[9], line 16\u001b[0m\n\u001b[1;32m     13\u001b[0m \u001b[38;5;28;01mfor\u001b[39;00m index, grant \u001b[38;5;129;01min\u001b[39;00m \u001b[38;5;28menumerate\u001b[39m(dict_data[\u001b[38;5;124m'\u001b[39m\u001b[38;5;124mgrants_data\u001b[39m\u001b[38;5;124m'\u001b[39m][\u001b[38;5;124m'\u001b[39m\u001b[38;5;124mgrant\u001b[39m\u001b[38;5;124m'\u001b[39m]):\n\u001b[1;32m     14\u001b[0m     messages \u001b[38;5;241m=\u001b[39m get_prompt(grant)\n\u001b[0;32m---> 16\u001b[0m     completion \u001b[38;5;241m=\u001b[39m \u001b[43mOAIclient\u001b[49m\u001b[38;5;241;43m.\u001b[39;49m\u001b[43mchat\u001b[49m\u001b[38;5;241;43m.\u001b[39;49m\u001b[43mcompletions\u001b[49m\u001b[38;5;241;43m.\u001b[39;49m\u001b[43mcreate\u001b[49m\u001b[43m(\u001b[49m\n\u001b[1;32m     17\u001b[0m \u001b[43m        \u001b[49m\u001b[43mmodel\u001b[49m\u001b[38;5;241;43m=\u001b[39;49m\u001b[38;5;124;43m'\u001b[39;49m\u001b[38;5;124;43mgpt-4o\u001b[39;49m\u001b[38;5;124;43m'\u001b[39;49m\u001b[43m,\u001b[49m\n\u001b[1;32m     18\u001b[0m \u001b[43m        \u001b[49m\u001b[43mmessages\u001b[49m\u001b[38;5;241;43m=\u001b[39;49m\u001b[43mmessages\u001b[49m\u001b[43m,\u001b[49m\n\u001b[1;32m     19\u001b[0m \u001b[43m        \u001b[49m\u001b[43mtemperature\u001b[49m\u001b[43m \u001b[49m\u001b[38;5;241;43m=\u001b[39;49m\u001b[43m \u001b[49m\u001b[38;5;241;43m0.5\u001b[39;49m\u001b[43m)\u001b[49m\n\u001b[1;32m     20\u001b[0m     resp \u001b[38;5;241m=\u001b[39m completion\u001b[38;5;241m.\u001b[39mchoices[\u001b[38;5;241m0\u001b[39m]\u001b[38;5;241m.\u001b[39mmessage\u001b[38;5;241m.\u001b[39mcontent\n\u001b[1;32m     21\u001b[0m     match \u001b[38;5;241m=\u001b[39m re\u001b[38;5;241m.\u001b[39msearch(\u001b[38;5;124mr\u001b[39m\u001b[38;5;124m'\u001b[39m\u001b[38;5;124m\\\u001b[39m\u001b[38;5;124m{\u001b[39m\u001b[38;5;124m.*\u001b[39m\u001b[38;5;124m\\\u001b[39m\u001b[38;5;124m}\u001b[39m\u001b[38;5;124m'\u001b[39m, resp, re\u001b[38;5;241m.\u001b[39mDOTALL)\n",
      "File \u001b[0;32m~/miniconda3/envs/search_env/lib/python3.12/site-packages/openai/_utils/_utils.py:277\u001b[0m, in \u001b[0;36mrequired_args.<locals>.inner.<locals>.wrapper\u001b[0;34m(*args, **kwargs)\u001b[0m\n\u001b[1;32m    275\u001b[0m             msg \u001b[38;5;241m=\u001b[39m \u001b[38;5;124mf\u001b[39m\u001b[38;5;124m\"\u001b[39m\u001b[38;5;124mMissing required argument: \u001b[39m\u001b[38;5;132;01m{\u001b[39;00mquote(missing[\u001b[38;5;241m0\u001b[39m])\u001b[38;5;132;01m}\u001b[39;00m\u001b[38;5;124m\"\u001b[39m\n\u001b[1;32m    276\u001b[0m     \u001b[38;5;28;01mraise\u001b[39;00m \u001b[38;5;167;01mTypeError\u001b[39;00m(msg)\n\u001b[0;32m--> 277\u001b[0m \u001b[38;5;28;01mreturn\u001b[39;00m \u001b[43mfunc\u001b[49m\u001b[43m(\u001b[49m\u001b[38;5;241;43m*\u001b[39;49m\u001b[43margs\u001b[49m\u001b[43m,\u001b[49m\u001b[43m \u001b[49m\u001b[38;5;241;43m*\u001b[39;49m\u001b[38;5;241;43m*\u001b[39;49m\u001b[43mkwargs\u001b[49m\u001b[43m)\u001b[49m\n",
      "File \u001b[0;32m~/miniconda3/envs/search_env/lib/python3.12/site-packages/openai/resources/chat/completions.py:643\u001b[0m, in \u001b[0;36mCompletions.create\u001b[0;34m(self, messages, model, frequency_penalty, function_call, functions, logit_bias, logprobs, max_tokens, n, parallel_tool_calls, presence_penalty, response_format, seed, service_tier, stop, stream, stream_options, temperature, tool_choice, tools, top_logprobs, top_p, user, extra_headers, extra_query, extra_body, timeout)\u001b[0m\n\u001b[1;32m    609\u001b[0m \u001b[38;5;129m@required_args\u001b[39m([\u001b[38;5;124m\"\u001b[39m\u001b[38;5;124mmessages\u001b[39m\u001b[38;5;124m\"\u001b[39m, \u001b[38;5;124m\"\u001b[39m\u001b[38;5;124mmodel\u001b[39m\u001b[38;5;124m\"\u001b[39m], [\u001b[38;5;124m\"\u001b[39m\u001b[38;5;124mmessages\u001b[39m\u001b[38;5;124m\"\u001b[39m, \u001b[38;5;124m\"\u001b[39m\u001b[38;5;124mmodel\u001b[39m\u001b[38;5;124m\"\u001b[39m, \u001b[38;5;124m\"\u001b[39m\u001b[38;5;124mstream\u001b[39m\u001b[38;5;124m\"\u001b[39m])\n\u001b[1;32m    610\u001b[0m \u001b[38;5;28;01mdef\u001b[39;00m \u001b[38;5;21mcreate\u001b[39m(\n\u001b[1;32m    611\u001b[0m     \u001b[38;5;28mself\u001b[39m,\n\u001b[0;32m   (...)\u001b[0m\n\u001b[1;32m    641\u001b[0m     timeout: \u001b[38;5;28mfloat\u001b[39m \u001b[38;5;241m|\u001b[39m httpx\u001b[38;5;241m.\u001b[39mTimeout \u001b[38;5;241m|\u001b[39m \u001b[38;5;28;01mNone\u001b[39;00m \u001b[38;5;241m|\u001b[39m NotGiven \u001b[38;5;241m=\u001b[39m NOT_GIVEN,\n\u001b[1;32m    642\u001b[0m ) \u001b[38;5;241m-\u001b[39m\u001b[38;5;241m>\u001b[39m ChatCompletion \u001b[38;5;241m|\u001b[39m Stream[ChatCompletionChunk]:\n\u001b[0;32m--> 643\u001b[0m     \u001b[38;5;28;01mreturn\u001b[39;00m \u001b[38;5;28;43mself\u001b[39;49m\u001b[38;5;241;43m.\u001b[39;49m\u001b[43m_post\u001b[49m\u001b[43m(\u001b[49m\n\u001b[1;32m    644\u001b[0m \u001b[43m        \u001b[49m\u001b[38;5;124;43m\"\u001b[39;49m\u001b[38;5;124;43m/chat/completions\u001b[39;49m\u001b[38;5;124;43m\"\u001b[39;49m\u001b[43m,\u001b[49m\n\u001b[1;32m    645\u001b[0m \u001b[43m        \u001b[49m\u001b[43mbody\u001b[49m\u001b[38;5;241;43m=\u001b[39;49m\u001b[43mmaybe_transform\u001b[49m\u001b[43m(\u001b[49m\n\u001b[1;32m    646\u001b[0m \u001b[43m            \u001b[49m\u001b[43m{\u001b[49m\n\u001b[1;32m    647\u001b[0m \u001b[43m                \u001b[49m\u001b[38;5;124;43m\"\u001b[39;49m\u001b[38;5;124;43mmessages\u001b[39;49m\u001b[38;5;124;43m\"\u001b[39;49m\u001b[43m:\u001b[49m\u001b[43m \u001b[49m\u001b[43mmessages\u001b[49m\u001b[43m,\u001b[49m\n\u001b[1;32m    648\u001b[0m \u001b[43m                \u001b[49m\u001b[38;5;124;43m\"\u001b[39;49m\u001b[38;5;124;43mmodel\u001b[39;49m\u001b[38;5;124;43m\"\u001b[39;49m\u001b[43m:\u001b[49m\u001b[43m \u001b[49m\u001b[43mmodel\u001b[49m\u001b[43m,\u001b[49m\n\u001b[1;32m    649\u001b[0m \u001b[43m                \u001b[49m\u001b[38;5;124;43m\"\u001b[39;49m\u001b[38;5;124;43mfrequency_penalty\u001b[39;49m\u001b[38;5;124;43m\"\u001b[39;49m\u001b[43m:\u001b[49m\u001b[43m \u001b[49m\u001b[43mfrequency_penalty\u001b[49m\u001b[43m,\u001b[49m\n\u001b[1;32m    650\u001b[0m \u001b[43m                \u001b[49m\u001b[38;5;124;43m\"\u001b[39;49m\u001b[38;5;124;43mfunction_call\u001b[39;49m\u001b[38;5;124;43m\"\u001b[39;49m\u001b[43m:\u001b[49m\u001b[43m \u001b[49m\u001b[43mfunction_call\u001b[49m\u001b[43m,\u001b[49m\n\u001b[1;32m    651\u001b[0m \u001b[43m                \u001b[49m\u001b[38;5;124;43m\"\u001b[39;49m\u001b[38;5;124;43mfunctions\u001b[39;49m\u001b[38;5;124;43m\"\u001b[39;49m\u001b[43m:\u001b[49m\u001b[43m \u001b[49m\u001b[43mfunctions\u001b[49m\u001b[43m,\u001b[49m\n\u001b[1;32m    652\u001b[0m \u001b[43m                \u001b[49m\u001b[38;5;124;43m\"\u001b[39;49m\u001b[38;5;124;43mlogit_bias\u001b[39;49m\u001b[38;5;124;43m\"\u001b[39;49m\u001b[43m:\u001b[49m\u001b[43m \u001b[49m\u001b[43mlogit_bias\u001b[49m\u001b[43m,\u001b[49m\n\u001b[1;32m    653\u001b[0m \u001b[43m                \u001b[49m\u001b[38;5;124;43m\"\u001b[39;49m\u001b[38;5;124;43mlogprobs\u001b[39;49m\u001b[38;5;124;43m\"\u001b[39;49m\u001b[43m:\u001b[49m\u001b[43m \u001b[49m\u001b[43mlogprobs\u001b[49m\u001b[43m,\u001b[49m\n\u001b[1;32m    654\u001b[0m \u001b[43m                \u001b[49m\u001b[38;5;124;43m\"\u001b[39;49m\u001b[38;5;124;43mmax_tokens\u001b[39;49m\u001b[38;5;124;43m\"\u001b[39;49m\u001b[43m:\u001b[49m\u001b[43m \u001b[49m\u001b[43mmax_tokens\u001b[49m\u001b[43m,\u001b[49m\n\u001b[1;32m    655\u001b[0m \u001b[43m                \u001b[49m\u001b[38;5;124;43m\"\u001b[39;49m\u001b[38;5;124;43mn\u001b[39;49m\u001b[38;5;124;43m\"\u001b[39;49m\u001b[43m:\u001b[49m\u001b[43m \u001b[49m\u001b[43mn\u001b[49m\u001b[43m,\u001b[49m\n\u001b[1;32m    656\u001b[0m \u001b[43m                \u001b[49m\u001b[38;5;124;43m\"\u001b[39;49m\u001b[38;5;124;43mparallel_tool_calls\u001b[39;49m\u001b[38;5;124;43m\"\u001b[39;49m\u001b[43m:\u001b[49m\u001b[43m \u001b[49m\u001b[43mparallel_tool_calls\u001b[49m\u001b[43m,\u001b[49m\n\u001b[1;32m    657\u001b[0m \u001b[43m                \u001b[49m\u001b[38;5;124;43m\"\u001b[39;49m\u001b[38;5;124;43mpresence_penalty\u001b[39;49m\u001b[38;5;124;43m\"\u001b[39;49m\u001b[43m:\u001b[49m\u001b[43m \u001b[49m\u001b[43mpresence_penalty\u001b[49m\u001b[43m,\u001b[49m\n\u001b[1;32m    658\u001b[0m \u001b[43m                \u001b[49m\u001b[38;5;124;43m\"\u001b[39;49m\u001b[38;5;124;43mresponse_format\u001b[39;49m\u001b[38;5;124;43m\"\u001b[39;49m\u001b[43m:\u001b[49m\u001b[43m \u001b[49m\u001b[43mresponse_format\u001b[49m\u001b[43m,\u001b[49m\n\u001b[1;32m    659\u001b[0m \u001b[43m                \u001b[49m\u001b[38;5;124;43m\"\u001b[39;49m\u001b[38;5;124;43mseed\u001b[39;49m\u001b[38;5;124;43m\"\u001b[39;49m\u001b[43m:\u001b[49m\u001b[43m \u001b[49m\u001b[43mseed\u001b[49m\u001b[43m,\u001b[49m\n\u001b[1;32m    660\u001b[0m \u001b[43m                \u001b[49m\u001b[38;5;124;43m\"\u001b[39;49m\u001b[38;5;124;43mservice_tier\u001b[39;49m\u001b[38;5;124;43m\"\u001b[39;49m\u001b[43m:\u001b[49m\u001b[43m \u001b[49m\u001b[43mservice_tier\u001b[49m\u001b[43m,\u001b[49m\n\u001b[1;32m    661\u001b[0m \u001b[43m                \u001b[49m\u001b[38;5;124;43m\"\u001b[39;49m\u001b[38;5;124;43mstop\u001b[39;49m\u001b[38;5;124;43m\"\u001b[39;49m\u001b[43m:\u001b[49m\u001b[43m \u001b[49m\u001b[43mstop\u001b[49m\u001b[43m,\u001b[49m\n\u001b[1;32m    662\u001b[0m \u001b[43m                \u001b[49m\u001b[38;5;124;43m\"\u001b[39;49m\u001b[38;5;124;43mstream\u001b[39;49m\u001b[38;5;124;43m\"\u001b[39;49m\u001b[43m:\u001b[49m\u001b[43m \u001b[49m\u001b[43mstream\u001b[49m\u001b[43m,\u001b[49m\n\u001b[1;32m    663\u001b[0m \u001b[43m                \u001b[49m\u001b[38;5;124;43m\"\u001b[39;49m\u001b[38;5;124;43mstream_options\u001b[39;49m\u001b[38;5;124;43m\"\u001b[39;49m\u001b[43m:\u001b[49m\u001b[43m \u001b[49m\u001b[43mstream_options\u001b[49m\u001b[43m,\u001b[49m\n\u001b[1;32m    664\u001b[0m \u001b[43m                \u001b[49m\u001b[38;5;124;43m\"\u001b[39;49m\u001b[38;5;124;43mtemperature\u001b[39;49m\u001b[38;5;124;43m\"\u001b[39;49m\u001b[43m:\u001b[49m\u001b[43m \u001b[49m\u001b[43mtemperature\u001b[49m\u001b[43m,\u001b[49m\n\u001b[1;32m    665\u001b[0m \u001b[43m                \u001b[49m\u001b[38;5;124;43m\"\u001b[39;49m\u001b[38;5;124;43mtool_choice\u001b[39;49m\u001b[38;5;124;43m\"\u001b[39;49m\u001b[43m:\u001b[49m\u001b[43m \u001b[49m\u001b[43mtool_choice\u001b[49m\u001b[43m,\u001b[49m\n\u001b[1;32m    666\u001b[0m \u001b[43m                \u001b[49m\u001b[38;5;124;43m\"\u001b[39;49m\u001b[38;5;124;43mtools\u001b[39;49m\u001b[38;5;124;43m\"\u001b[39;49m\u001b[43m:\u001b[49m\u001b[43m \u001b[49m\u001b[43mtools\u001b[49m\u001b[43m,\u001b[49m\n\u001b[1;32m    667\u001b[0m \u001b[43m                \u001b[49m\u001b[38;5;124;43m\"\u001b[39;49m\u001b[38;5;124;43mtop_logprobs\u001b[39;49m\u001b[38;5;124;43m\"\u001b[39;49m\u001b[43m:\u001b[49m\u001b[43m \u001b[49m\u001b[43mtop_logprobs\u001b[49m\u001b[43m,\u001b[49m\n\u001b[1;32m    668\u001b[0m \u001b[43m                \u001b[49m\u001b[38;5;124;43m\"\u001b[39;49m\u001b[38;5;124;43mtop_p\u001b[39;49m\u001b[38;5;124;43m\"\u001b[39;49m\u001b[43m:\u001b[49m\u001b[43m \u001b[49m\u001b[43mtop_p\u001b[49m\u001b[43m,\u001b[49m\n\u001b[1;32m    669\u001b[0m \u001b[43m                \u001b[49m\u001b[38;5;124;43m\"\u001b[39;49m\u001b[38;5;124;43muser\u001b[39;49m\u001b[38;5;124;43m\"\u001b[39;49m\u001b[43m:\u001b[49m\u001b[43m \u001b[49m\u001b[43muser\u001b[49m\u001b[43m,\u001b[49m\n\u001b[1;32m    670\u001b[0m \u001b[43m            \u001b[49m\u001b[43m}\u001b[49m\u001b[43m,\u001b[49m\n\u001b[1;32m    671\u001b[0m \u001b[43m            \u001b[49m\u001b[43mcompletion_create_params\u001b[49m\u001b[38;5;241;43m.\u001b[39;49m\u001b[43mCompletionCreateParams\u001b[49m\u001b[43m,\u001b[49m\n\u001b[1;32m    672\u001b[0m \u001b[43m        \u001b[49m\u001b[43m)\u001b[49m\u001b[43m,\u001b[49m\n\u001b[1;32m    673\u001b[0m \u001b[43m        \u001b[49m\u001b[43moptions\u001b[49m\u001b[38;5;241;43m=\u001b[39;49m\u001b[43mmake_request_options\u001b[49m\u001b[43m(\u001b[49m\n\u001b[1;32m    674\u001b[0m \u001b[43m            \u001b[49m\u001b[43mextra_headers\u001b[49m\u001b[38;5;241;43m=\u001b[39;49m\u001b[43mextra_headers\u001b[49m\u001b[43m,\u001b[49m\u001b[43m \u001b[49m\u001b[43mextra_query\u001b[49m\u001b[38;5;241;43m=\u001b[39;49m\u001b[43mextra_query\u001b[49m\u001b[43m,\u001b[49m\u001b[43m \u001b[49m\u001b[43mextra_body\u001b[49m\u001b[38;5;241;43m=\u001b[39;49m\u001b[43mextra_body\u001b[49m\u001b[43m,\u001b[49m\u001b[43m \u001b[49m\u001b[43mtimeout\u001b[49m\u001b[38;5;241;43m=\u001b[39;49m\u001b[43mtimeout\u001b[49m\n\u001b[1;32m    675\u001b[0m \u001b[43m        \u001b[49m\u001b[43m)\u001b[49m\u001b[43m,\u001b[49m\n\u001b[1;32m    676\u001b[0m \u001b[43m        \u001b[49m\u001b[43mcast_to\u001b[49m\u001b[38;5;241;43m=\u001b[39;49m\u001b[43mChatCompletion\u001b[49m\u001b[43m,\u001b[49m\n\u001b[1;32m    677\u001b[0m \u001b[43m        \u001b[49m\u001b[43mstream\u001b[49m\u001b[38;5;241;43m=\u001b[39;49m\u001b[43mstream\u001b[49m\u001b[43m \u001b[49m\u001b[38;5;129;43;01mor\u001b[39;49;00m\u001b[43m \u001b[49m\u001b[38;5;28;43;01mFalse\u001b[39;49;00m\u001b[43m,\u001b[49m\n\u001b[1;32m    678\u001b[0m \u001b[43m        \u001b[49m\u001b[43mstream_cls\u001b[49m\u001b[38;5;241;43m=\u001b[39;49m\u001b[43mStream\u001b[49m\u001b[43m[\u001b[49m\u001b[43mChatCompletionChunk\u001b[49m\u001b[43m]\u001b[49m\u001b[43m,\u001b[49m\n\u001b[1;32m    679\u001b[0m \u001b[43m    \u001b[49m\u001b[43m)\u001b[49m\n",
      "File \u001b[0;32m~/miniconda3/envs/search_env/lib/python3.12/site-packages/openai/_base_client.py:1250\u001b[0m, in \u001b[0;36mSyncAPIClient.post\u001b[0;34m(self, path, cast_to, body, options, files, stream, stream_cls)\u001b[0m\n\u001b[1;32m   1236\u001b[0m \u001b[38;5;28;01mdef\u001b[39;00m \u001b[38;5;21mpost\u001b[39m(\n\u001b[1;32m   1237\u001b[0m     \u001b[38;5;28mself\u001b[39m,\n\u001b[1;32m   1238\u001b[0m     path: \u001b[38;5;28mstr\u001b[39m,\n\u001b[0;32m   (...)\u001b[0m\n\u001b[1;32m   1245\u001b[0m     stream_cls: \u001b[38;5;28mtype\u001b[39m[_StreamT] \u001b[38;5;241m|\u001b[39m \u001b[38;5;28;01mNone\u001b[39;00m \u001b[38;5;241m=\u001b[39m \u001b[38;5;28;01mNone\u001b[39;00m,\n\u001b[1;32m   1246\u001b[0m ) \u001b[38;5;241m-\u001b[39m\u001b[38;5;241m>\u001b[39m ResponseT \u001b[38;5;241m|\u001b[39m _StreamT:\n\u001b[1;32m   1247\u001b[0m     opts \u001b[38;5;241m=\u001b[39m FinalRequestOptions\u001b[38;5;241m.\u001b[39mconstruct(\n\u001b[1;32m   1248\u001b[0m         method\u001b[38;5;241m=\u001b[39m\u001b[38;5;124m\"\u001b[39m\u001b[38;5;124mpost\u001b[39m\u001b[38;5;124m\"\u001b[39m, url\u001b[38;5;241m=\u001b[39mpath, json_data\u001b[38;5;241m=\u001b[39mbody, files\u001b[38;5;241m=\u001b[39mto_httpx_files(files), \u001b[38;5;241m*\u001b[39m\u001b[38;5;241m*\u001b[39moptions\n\u001b[1;32m   1249\u001b[0m     )\n\u001b[0;32m-> 1250\u001b[0m     \u001b[38;5;28;01mreturn\u001b[39;00m cast(ResponseT, \u001b[38;5;28;43mself\u001b[39;49m\u001b[38;5;241;43m.\u001b[39;49m\u001b[43mrequest\u001b[49m\u001b[43m(\u001b[49m\u001b[43mcast_to\u001b[49m\u001b[43m,\u001b[49m\u001b[43m \u001b[49m\u001b[43mopts\u001b[49m\u001b[43m,\u001b[49m\u001b[43m \u001b[49m\u001b[43mstream\u001b[49m\u001b[38;5;241;43m=\u001b[39;49m\u001b[43mstream\u001b[49m\u001b[43m,\u001b[49m\u001b[43m \u001b[49m\u001b[43mstream_cls\u001b[49m\u001b[38;5;241;43m=\u001b[39;49m\u001b[43mstream_cls\u001b[49m\u001b[43m)\u001b[49m)\n",
      "File \u001b[0;32m~/miniconda3/envs/search_env/lib/python3.12/site-packages/openai/_base_client.py:931\u001b[0m, in \u001b[0;36mSyncAPIClient.request\u001b[0;34m(self, cast_to, options, remaining_retries, stream, stream_cls)\u001b[0m\n\u001b[1;32m    922\u001b[0m \u001b[38;5;28;01mdef\u001b[39;00m \u001b[38;5;21mrequest\u001b[39m(\n\u001b[1;32m    923\u001b[0m     \u001b[38;5;28mself\u001b[39m,\n\u001b[1;32m    924\u001b[0m     cast_to: Type[ResponseT],\n\u001b[0;32m   (...)\u001b[0m\n\u001b[1;32m    929\u001b[0m     stream_cls: \u001b[38;5;28mtype\u001b[39m[_StreamT] \u001b[38;5;241m|\u001b[39m \u001b[38;5;28;01mNone\u001b[39;00m \u001b[38;5;241m=\u001b[39m \u001b[38;5;28;01mNone\u001b[39;00m,\n\u001b[1;32m    930\u001b[0m ) \u001b[38;5;241m-\u001b[39m\u001b[38;5;241m>\u001b[39m ResponseT \u001b[38;5;241m|\u001b[39m _StreamT:\n\u001b[0;32m--> 931\u001b[0m     \u001b[38;5;28;01mreturn\u001b[39;00m \u001b[38;5;28;43mself\u001b[39;49m\u001b[38;5;241;43m.\u001b[39;49m\u001b[43m_request\u001b[49m\u001b[43m(\u001b[49m\n\u001b[1;32m    932\u001b[0m \u001b[43m        \u001b[49m\u001b[43mcast_to\u001b[49m\u001b[38;5;241;43m=\u001b[39;49m\u001b[43mcast_to\u001b[49m\u001b[43m,\u001b[49m\n\u001b[1;32m    933\u001b[0m \u001b[43m        \u001b[49m\u001b[43moptions\u001b[49m\u001b[38;5;241;43m=\u001b[39;49m\u001b[43moptions\u001b[49m\u001b[43m,\u001b[49m\n\u001b[1;32m    934\u001b[0m \u001b[43m        \u001b[49m\u001b[43mstream\u001b[49m\u001b[38;5;241;43m=\u001b[39;49m\u001b[43mstream\u001b[49m\u001b[43m,\u001b[49m\n\u001b[1;32m    935\u001b[0m \u001b[43m        \u001b[49m\u001b[43mstream_cls\u001b[49m\u001b[38;5;241;43m=\u001b[39;49m\u001b[43mstream_cls\u001b[49m\u001b[43m,\u001b[49m\n\u001b[1;32m    936\u001b[0m \u001b[43m        \u001b[49m\u001b[43mremaining_retries\u001b[49m\u001b[38;5;241;43m=\u001b[39;49m\u001b[43mremaining_retries\u001b[49m\u001b[43m,\u001b[49m\n\u001b[1;32m    937\u001b[0m \u001b[43m    \u001b[49m\u001b[43m)\u001b[49m\n",
      "File \u001b[0;32m~/miniconda3/envs/search_env/lib/python3.12/site-packages/openai/_base_client.py:962\u001b[0m, in \u001b[0;36mSyncAPIClient._request\u001b[0;34m(self, cast_to, options, remaining_retries, stream, stream_cls)\u001b[0m\n\u001b[1;32m    959\u001b[0m log\u001b[38;5;241m.\u001b[39mdebug(\u001b[38;5;124m\"\u001b[39m\u001b[38;5;124mSending HTTP Request: \u001b[39m\u001b[38;5;132;01m%s\u001b[39;00m\u001b[38;5;124m \u001b[39m\u001b[38;5;132;01m%s\u001b[39;00m\u001b[38;5;124m\"\u001b[39m, request\u001b[38;5;241m.\u001b[39mmethod, request\u001b[38;5;241m.\u001b[39murl)\n\u001b[1;32m    961\u001b[0m \u001b[38;5;28;01mtry\u001b[39;00m:\n\u001b[0;32m--> 962\u001b[0m     response \u001b[38;5;241m=\u001b[39m \u001b[38;5;28;43mself\u001b[39;49m\u001b[38;5;241;43m.\u001b[39;49m\u001b[43m_client\u001b[49m\u001b[38;5;241;43m.\u001b[39;49m\u001b[43msend\u001b[49m\u001b[43m(\u001b[49m\n\u001b[1;32m    963\u001b[0m \u001b[43m        \u001b[49m\u001b[43mrequest\u001b[49m\u001b[43m,\u001b[49m\n\u001b[1;32m    964\u001b[0m \u001b[43m        \u001b[49m\u001b[43mstream\u001b[49m\u001b[38;5;241;43m=\u001b[39;49m\u001b[43mstream\u001b[49m\u001b[43m \u001b[49m\u001b[38;5;129;43;01mor\u001b[39;49;00m\u001b[43m \u001b[49m\u001b[38;5;28;43mself\u001b[39;49m\u001b[38;5;241;43m.\u001b[39;49m\u001b[43m_should_stream_response_body\u001b[49m\u001b[43m(\u001b[49m\u001b[43mrequest\u001b[49m\u001b[38;5;241;43m=\u001b[39;49m\u001b[43mrequest\u001b[49m\u001b[43m)\u001b[49m\u001b[43m,\u001b[49m\n\u001b[1;32m    965\u001b[0m \u001b[43m        \u001b[49m\u001b[38;5;241;43m*\u001b[39;49m\u001b[38;5;241;43m*\u001b[39;49m\u001b[43mkwargs\u001b[49m\u001b[43m,\u001b[49m\n\u001b[1;32m    966\u001b[0m \u001b[43m    \u001b[49m\u001b[43m)\u001b[49m\n\u001b[1;32m    967\u001b[0m \u001b[38;5;28;01mexcept\u001b[39;00m httpx\u001b[38;5;241m.\u001b[39mTimeoutException \u001b[38;5;28;01mas\u001b[39;00m err:\n\u001b[1;32m    968\u001b[0m     log\u001b[38;5;241m.\u001b[39mdebug(\u001b[38;5;124m\"\u001b[39m\u001b[38;5;124mEncountered httpx.TimeoutException\u001b[39m\u001b[38;5;124m\"\u001b[39m, exc_info\u001b[38;5;241m=\u001b[39m\u001b[38;5;28;01mTrue\u001b[39;00m)\n",
      "File \u001b[0;32m~/miniconda3/envs/search_env/lib/python3.12/site-packages/httpx/_client.py:914\u001b[0m, in \u001b[0;36mClient.send\u001b[0;34m(self, request, stream, auth, follow_redirects)\u001b[0m\n\u001b[1;32m    906\u001b[0m follow_redirects \u001b[38;5;241m=\u001b[39m (\n\u001b[1;32m    907\u001b[0m     \u001b[38;5;28mself\u001b[39m\u001b[38;5;241m.\u001b[39mfollow_redirects\n\u001b[1;32m    908\u001b[0m     \u001b[38;5;28;01mif\u001b[39;00m \u001b[38;5;28misinstance\u001b[39m(follow_redirects, UseClientDefault)\n\u001b[1;32m    909\u001b[0m     \u001b[38;5;28;01melse\u001b[39;00m follow_redirects\n\u001b[1;32m    910\u001b[0m )\n\u001b[1;32m    912\u001b[0m auth \u001b[38;5;241m=\u001b[39m \u001b[38;5;28mself\u001b[39m\u001b[38;5;241m.\u001b[39m_build_request_auth(request, auth)\n\u001b[0;32m--> 914\u001b[0m response \u001b[38;5;241m=\u001b[39m \u001b[38;5;28;43mself\u001b[39;49m\u001b[38;5;241;43m.\u001b[39;49m\u001b[43m_send_handling_auth\u001b[49m\u001b[43m(\u001b[49m\n\u001b[1;32m    915\u001b[0m \u001b[43m    \u001b[49m\u001b[43mrequest\u001b[49m\u001b[43m,\u001b[49m\n\u001b[1;32m    916\u001b[0m \u001b[43m    \u001b[49m\u001b[43mauth\u001b[49m\u001b[38;5;241;43m=\u001b[39;49m\u001b[43mauth\u001b[49m\u001b[43m,\u001b[49m\n\u001b[1;32m    917\u001b[0m \u001b[43m    \u001b[49m\u001b[43mfollow_redirects\u001b[49m\u001b[38;5;241;43m=\u001b[39;49m\u001b[43mfollow_redirects\u001b[49m\u001b[43m,\u001b[49m\n\u001b[1;32m    918\u001b[0m \u001b[43m    \u001b[49m\u001b[43mhistory\u001b[49m\u001b[38;5;241;43m=\u001b[39;49m\u001b[43m[\u001b[49m\u001b[43m]\u001b[49m\u001b[43m,\u001b[49m\n\u001b[1;32m    919\u001b[0m \u001b[43m\u001b[49m\u001b[43m)\u001b[49m\n\u001b[1;32m    920\u001b[0m \u001b[38;5;28;01mtry\u001b[39;00m:\n\u001b[1;32m    921\u001b[0m     \u001b[38;5;28;01mif\u001b[39;00m \u001b[38;5;129;01mnot\u001b[39;00m stream:\n",
      "File \u001b[0;32m~/miniconda3/envs/search_env/lib/python3.12/site-packages/httpx/_client.py:942\u001b[0m, in \u001b[0;36mClient._send_handling_auth\u001b[0;34m(self, request, auth, follow_redirects, history)\u001b[0m\n\u001b[1;32m    939\u001b[0m request \u001b[38;5;241m=\u001b[39m \u001b[38;5;28mnext\u001b[39m(auth_flow)\n\u001b[1;32m    941\u001b[0m \u001b[38;5;28;01mwhile\u001b[39;00m \u001b[38;5;28;01mTrue\u001b[39;00m:\n\u001b[0;32m--> 942\u001b[0m     response \u001b[38;5;241m=\u001b[39m \u001b[38;5;28;43mself\u001b[39;49m\u001b[38;5;241;43m.\u001b[39;49m\u001b[43m_send_handling_redirects\u001b[49m\u001b[43m(\u001b[49m\n\u001b[1;32m    943\u001b[0m \u001b[43m        \u001b[49m\u001b[43mrequest\u001b[49m\u001b[43m,\u001b[49m\n\u001b[1;32m    944\u001b[0m \u001b[43m        \u001b[49m\u001b[43mfollow_redirects\u001b[49m\u001b[38;5;241;43m=\u001b[39;49m\u001b[43mfollow_redirects\u001b[49m\u001b[43m,\u001b[49m\n\u001b[1;32m    945\u001b[0m \u001b[43m        \u001b[49m\u001b[43mhistory\u001b[49m\u001b[38;5;241;43m=\u001b[39;49m\u001b[43mhistory\u001b[49m\u001b[43m,\u001b[49m\n\u001b[1;32m    946\u001b[0m \u001b[43m    \u001b[49m\u001b[43m)\u001b[49m\n\u001b[1;32m    947\u001b[0m     \u001b[38;5;28;01mtry\u001b[39;00m:\n\u001b[1;32m    948\u001b[0m         \u001b[38;5;28;01mtry\u001b[39;00m:\n",
      "File \u001b[0;32m~/miniconda3/envs/search_env/lib/python3.12/site-packages/httpx/_client.py:979\u001b[0m, in \u001b[0;36mClient._send_handling_redirects\u001b[0;34m(self, request, follow_redirects, history)\u001b[0m\n\u001b[1;32m    976\u001b[0m \u001b[38;5;28;01mfor\u001b[39;00m hook \u001b[38;5;129;01min\u001b[39;00m \u001b[38;5;28mself\u001b[39m\u001b[38;5;241m.\u001b[39m_event_hooks[\u001b[38;5;124m\"\u001b[39m\u001b[38;5;124mrequest\u001b[39m\u001b[38;5;124m\"\u001b[39m]:\n\u001b[1;32m    977\u001b[0m     hook(request)\n\u001b[0;32m--> 979\u001b[0m response \u001b[38;5;241m=\u001b[39m \u001b[38;5;28;43mself\u001b[39;49m\u001b[38;5;241;43m.\u001b[39;49m\u001b[43m_send_single_request\u001b[49m\u001b[43m(\u001b[49m\u001b[43mrequest\u001b[49m\u001b[43m)\u001b[49m\n\u001b[1;32m    980\u001b[0m \u001b[38;5;28;01mtry\u001b[39;00m:\n\u001b[1;32m    981\u001b[0m     \u001b[38;5;28;01mfor\u001b[39;00m hook \u001b[38;5;129;01min\u001b[39;00m \u001b[38;5;28mself\u001b[39m\u001b[38;5;241m.\u001b[39m_event_hooks[\u001b[38;5;124m\"\u001b[39m\u001b[38;5;124mresponse\u001b[39m\u001b[38;5;124m\"\u001b[39m]:\n",
      "File \u001b[0;32m~/miniconda3/envs/search_env/lib/python3.12/site-packages/httpx/_client.py:1015\u001b[0m, in \u001b[0;36mClient._send_single_request\u001b[0;34m(self, request)\u001b[0m\n\u001b[1;32m   1010\u001b[0m     \u001b[38;5;28;01mraise\u001b[39;00m \u001b[38;5;167;01mRuntimeError\u001b[39;00m(\n\u001b[1;32m   1011\u001b[0m         \u001b[38;5;124m\"\u001b[39m\u001b[38;5;124mAttempted to send an async request with a sync Client instance.\u001b[39m\u001b[38;5;124m\"\u001b[39m\n\u001b[1;32m   1012\u001b[0m     )\n\u001b[1;32m   1014\u001b[0m \u001b[38;5;28;01mwith\u001b[39;00m request_context(request\u001b[38;5;241m=\u001b[39mrequest):\n\u001b[0;32m-> 1015\u001b[0m     response \u001b[38;5;241m=\u001b[39m \u001b[43mtransport\u001b[49m\u001b[38;5;241;43m.\u001b[39;49m\u001b[43mhandle_request\u001b[49m\u001b[43m(\u001b[49m\u001b[43mrequest\u001b[49m\u001b[43m)\u001b[49m\n\u001b[1;32m   1017\u001b[0m \u001b[38;5;28;01massert\u001b[39;00m \u001b[38;5;28misinstance\u001b[39m(response\u001b[38;5;241m.\u001b[39mstream, SyncByteStream)\n\u001b[1;32m   1019\u001b[0m response\u001b[38;5;241m.\u001b[39mrequest \u001b[38;5;241m=\u001b[39m request\n",
      "File \u001b[0;32m~/miniconda3/envs/search_env/lib/python3.12/site-packages/httpx/_transports/default.py:233\u001b[0m, in \u001b[0;36mHTTPTransport.handle_request\u001b[0;34m(self, request)\u001b[0m\n\u001b[1;32m    220\u001b[0m req \u001b[38;5;241m=\u001b[39m httpcore\u001b[38;5;241m.\u001b[39mRequest(\n\u001b[1;32m    221\u001b[0m     method\u001b[38;5;241m=\u001b[39mrequest\u001b[38;5;241m.\u001b[39mmethod,\n\u001b[1;32m    222\u001b[0m     url\u001b[38;5;241m=\u001b[39mhttpcore\u001b[38;5;241m.\u001b[39mURL(\n\u001b[0;32m   (...)\u001b[0m\n\u001b[1;32m    230\u001b[0m     extensions\u001b[38;5;241m=\u001b[39mrequest\u001b[38;5;241m.\u001b[39mextensions,\n\u001b[1;32m    231\u001b[0m )\n\u001b[1;32m    232\u001b[0m \u001b[38;5;28;01mwith\u001b[39;00m map_httpcore_exceptions():\n\u001b[0;32m--> 233\u001b[0m     resp \u001b[38;5;241m=\u001b[39m \u001b[38;5;28;43mself\u001b[39;49m\u001b[38;5;241;43m.\u001b[39;49m\u001b[43m_pool\u001b[49m\u001b[38;5;241;43m.\u001b[39;49m\u001b[43mhandle_request\u001b[49m\u001b[43m(\u001b[49m\u001b[43mreq\u001b[49m\u001b[43m)\u001b[49m\n\u001b[1;32m    235\u001b[0m \u001b[38;5;28;01massert\u001b[39;00m \u001b[38;5;28misinstance\u001b[39m(resp\u001b[38;5;241m.\u001b[39mstream, typing\u001b[38;5;241m.\u001b[39mIterable)\n\u001b[1;32m    237\u001b[0m \u001b[38;5;28;01mreturn\u001b[39;00m Response(\n\u001b[1;32m    238\u001b[0m     status_code\u001b[38;5;241m=\u001b[39mresp\u001b[38;5;241m.\u001b[39mstatus,\n\u001b[1;32m    239\u001b[0m     headers\u001b[38;5;241m=\u001b[39mresp\u001b[38;5;241m.\u001b[39mheaders,\n\u001b[1;32m    240\u001b[0m     stream\u001b[38;5;241m=\u001b[39mResponseStream(resp\u001b[38;5;241m.\u001b[39mstream),\n\u001b[1;32m    241\u001b[0m     extensions\u001b[38;5;241m=\u001b[39mresp\u001b[38;5;241m.\u001b[39mextensions,\n\u001b[1;32m    242\u001b[0m )\n",
      "File \u001b[0;32m~/miniconda3/envs/search_env/lib/python3.12/site-packages/httpcore/_sync/connection_pool.py:216\u001b[0m, in \u001b[0;36mConnectionPool.handle_request\u001b[0;34m(self, request)\u001b[0m\n\u001b[1;32m    213\u001b[0m         closing \u001b[38;5;241m=\u001b[39m \u001b[38;5;28mself\u001b[39m\u001b[38;5;241m.\u001b[39m_assign_requests_to_connections()\n\u001b[1;32m    215\u001b[0m     \u001b[38;5;28mself\u001b[39m\u001b[38;5;241m.\u001b[39m_close_connections(closing)\n\u001b[0;32m--> 216\u001b[0m     \u001b[38;5;28;01mraise\u001b[39;00m exc \u001b[38;5;28;01mfrom\u001b[39;00m \u001b[38;5;28;01mNone\u001b[39;00m\n\u001b[1;32m    218\u001b[0m \u001b[38;5;66;03m# Return the response. Note that in this case we still have to manage\u001b[39;00m\n\u001b[1;32m    219\u001b[0m \u001b[38;5;66;03m# the point at which the response is closed.\u001b[39;00m\n\u001b[1;32m    220\u001b[0m \u001b[38;5;28;01massert\u001b[39;00m \u001b[38;5;28misinstance\u001b[39m(response\u001b[38;5;241m.\u001b[39mstream, Iterable)\n",
      "File \u001b[0;32m~/miniconda3/envs/search_env/lib/python3.12/site-packages/httpcore/_sync/connection_pool.py:196\u001b[0m, in \u001b[0;36mConnectionPool.handle_request\u001b[0;34m(self, request)\u001b[0m\n\u001b[1;32m    192\u001b[0m connection \u001b[38;5;241m=\u001b[39m pool_request\u001b[38;5;241m.\u001b[39mwait_for_connection(timeout\u001b[38;5;241m=\u001b[39mtimeout)\n\u001b[1;32m    194\u001b[0m \u001b[38;5;28;01mtry\u001b[39;00m:\n\u001b[1;32m    195\u001b[0m     \u001b[38;5;66;03m# Send the request on the assigned connection.\u001b[39;00m\n\u001b[0;32m--> 196\u001b[0m     response \u001b[38;5;241m=\u001b[39m \u001b[43mconnection\u001b[49m\u001b[38;5;241;43m.\u001b[39;49m\u001b[43mhandle_request\u001b[49m\u001b[43m(\u001b[49m\n\u001b[1;32m    197\u001b[0m \u001b[43m        \u001b[49m\u001b[43mpool_request\u001b[49m\u001b[38;5;241;43m.\u001b[39;49m\u001b[43mrequest\u001b[49m\n\u001b[1;32m    198\u001b[0m \u001b[43m    \u001b[49m\u001b[43m)\u001b[49m\n\u001b[1;32m    199\u001b[0m \u001b[38;5;28;01mexcept\u001b[39;00m ConnectionNotAvailable:\n\u001b[1;32m    200\u001b[0m     \u001b[38;5;66;03m# In some cases a connection may initially be available to\u001b[39;00m\n\u001b[1;32m    201\u001b[0m     \u001b[38;5;66;03m# handle a request, but then become unavailable.\u001b[39;00m\n\u001b[1;32m    202\u001b[0m     \u001b[38;5;66;03m#\u001b[39;00m\n\u001b[1;32m    203\u001b[0m     \u001b[38;5;66;03m# In this case we clear the connection and try again.\u001b[39;00m\n\u001b[1;32m    204\u001b[0m     pool_request\u001b[38;5;241m.\u001b[39mclear_connection()\n",
      "File \u001b[0;32m~/miniconda3/envs/search_env/lib/python3.12/site-packages/httpcore/_sync/connection.py:101\u001b[0m, in \u001b[0;36mHTTPConnection.handle_request\u001b[0;34m(self, request)\u001b[0m\n\u001b[1;32m     98\u001b[0m     \u001b[38;5;28mself\u001b[39m\u001b[38;5;241m.\u001b[39m_connect_failed \u001b[38;5;241m=\u001b[39m \u001b[38;5;28;01mTrue\u001b[39;00m\n\u001b[1;32m     99\u001b[0m     \u001b[38;5;28;01mraise\u001b[39;00m exc\n\u001b[0;32m--> 101\u001b[0m \u001b[38;5;28;01mreturn\u001b[39;00m \u001b[38;5;28;43mself\u001b[39;49m\u001b[38;5;241;43m.\u001b[39;49m\u001b[43m_connection\u001b[49m\u001b[38;5;241;43m.\u001b[39;49m\u001b[43mhandle_request\u001b[49m\u001b[43m(\u001b[49m\u001b[43mrequest\u001b[49m\u001b[43m)\u001b[49m\n",
      "File \u001b[0;32m~/miniconda3/envs/search_env/lib/python3.12/site-packages/httpcore/_sync/http11.py:143\u001b[0m, in \u001b[0;36mHTTP11Connection.handle_request\u001b[0;34m(self, request)\u001b[0m\n\u001b[1;32m    141\u001b[0m     \u001b[38;5;28;01mwith\u001b[39;00m Trace(\u001b[38;5;124m\"\u001b[39m\u001b[38;5;124mresponse_closed\u001b[39m\u001b[38;5;124m\"\u001b[39m, logger, request) \u001b[38;5;28;01mas\u001b[39;00m trace:\n\u001b[1;32m    142\u001b[0m         \u001b[38;5;28mself\u001b[39m\u001b[38;5;241m.\u001b[39m_response_closed()\n\u001b[0;32m--> 143\u001b[0m \u001b[38;5;28;01mraise\u001b[39;00m exc\n",
      "File \u001b[0;32m~/miniconda3/envs/search_env/lib/python3.12/site-packages/httpcore/_sync/http11.py:113\u001b[0m, in \u001b[0;36mHTTP11Connection.handle_request\u001b[0;34m(self, request)\u001b[0m\n\u001b[1;32m    102\u001b[0m     \u001b[38;5;28;01mpass\u001b[39;00m\n\u001b[1;32m    104\u001b[0m \u001b[38;5;28;01mwith\u001b[39;00m Trace(\n\u001b[1;32m    105\u001b[0m     \u001b[38;5;124m\"\u001b[39m\u001b[38;5;124mreceive_response_headers\u001b[39m\u001b[38;5;124m\"\u001b[39m, logger, request, kwargs\n\u001b[1;32m    106\u001b[0m ) \u001b[38;5;28;01mas\u001b[39;00m trace:\n\u001b[1;32m    107\u001b[0m     (\n\u001b[1;32m    108\u001b[0m         http_version,\n\u001b[1;32m    109\u001b[0m         status,\n\u001b[1;32m    110\u001b[0m         reason_phrase,\n\u001b[1;32m    111\u001b[0m         headers,\n\u001b[1;32m    112\u001b[0m         trailing_data,\n\u001b[0;32m--> 113\u001b[0m     ) \u001b[38;5;241m=\u001b[39m \u001b[38;5;28;43mself\u001b[39;49m\u001b[38;5;241;43m.\u001b[39;49m\u001b[43m_receive_response_headers\u001b[49m\u001b[43m(\u001b[49m\u001b[38;5;241;43m*\u001b[39;49m\u001b[38;5;241;43m*\u001b[39;49m\u001b[43mkwargs\u001b[49m\u001b[43m)\u001b[49m\n\u001b[1;32m    114\u001b[0m     trace\u001b[38;5;241m.\u001b[39mreturn_value \u001b[38;5;241m=\u001b[39m (\n\u001b[1;32m    115\u001b[0m         http_version,\n\u001b[1;32m    116\u001b[0m         status,\n\u001b[1;32m    117\u001b[0m         reason_phrase,\n\u001b[1;32m    118\u001b[0m         headers,\n\u001b[1;32m    119\u001b[0m     )\n\u001b[1;32m    121\u001b[0m network_stream \u001b[38;5;241m=\u001b[39m \u001b[38;5;28mself\u001b[39m\u001b[38;5;241m.\u001b[39m_network_stream\n",
      "File \u001b[0;32m~/miniconda3/envs/search_env/lib/python3.12/site-packages/httpcore/_sync/http11.py:186\u001b[0m, in \u001b[0;36mHTTP11Connection._receive_response_headers\u001b[0;34m(self, request)\u001b[0m\n\u001b[1;32m    183\u001b[0m timeout \u001b[38;5;241m=\u001b[39m timeouts\u001b[38;5;241m.\u001b[39mget(\u001b[38;5;124m\"\u001b[39m\u001b[38;5;124mread\u001b[39m\u001b[38;5;124m\"\u001b[39m, \u001b[38;5;28;01mNone\u001b[39;00m)\n\u001b[1;32m    185\u001b[0m \u001b[38;5;28;01mwhile\u001b[39;00m \u001b[38;5;28;01mTrue\u001b[39;00m:\n\u001b[0;32m--> 186\u001b[0m     event \u001b[38;5;241m=\u001b[39m \u001b[38;5;28;43mself\u001b[39;49m\u001b[38;5;241;43m.\u001b[39;49m\u001b[43m_receive_event\u001b[49m\u001b[43m(\u001b[49m\u001b[43mtimeout\u001b[49m\u001b[38;5;241;43m=\u001b[39;49m\u001b[43mtimeout\u001b[49m\u001b[43m)\u001b[49m\n\u001b[1;32m    187\u001b[0m     \u001b[38;5;28;01mif\u001b[39;00m \u001b[38;5;28misinstance\u001b[39m(event, h11\u001b[38;5;241m.\u001b[39mResponse):\n\u001b[1;32m    188\u001b[0m         \u001b[38;5;28;01mbreak\u001b[39;00m\n",
      "File \u001b[0;32m~/miniconda3/envs/search_env/lib/python3.12/site-packages/httpcore/_sync/http11.py:224\u001b[0m, in \u001b[0;36mHTTP11Connection._receive_event\u001b[0;34m(self, timeout)\u001b[0m\n\u001b[1;32m    221\u001b[0m     event \u001b[38;5;241m=\u001b[39m \u001b[38;5;28mself\u001b[39m\u001b[38;5;241m.\u001b[39m_h11_state\u001b[38;5;241m.\u001b[39mnext_event()\n\u001b[1;32m    223\u001b[0m \u001b[38;5;28;01mif\u001b[39;00m event \u001b[38;5;129;01mis\u001b[39;00m h11\u001b[38;5;241m.\u001b[39mNEED_DATA:\n\u001b[0;32m--> 224\u001b[0m     data \u001b[38;5;241m=\u001b[39m \u001b[38;5;28;43mself\u001b[39;49m\u001b[38;5;241;43m.\u001b[39;49m\u001b[43m_network_stream\u001b[49m\u001b[38;5;241;43m.\u001b[39;49m\u001b[43mread\u001b[49m\u001b[43m(\u001b[49m\n\u001b[1;32m    225\u001b[0m \u001b[43m        \u001b[49m\u001b[38;5;28;43mself\u001b[39;49m\u001b[38;5;241;43m.\u001b[39;49m\u001b[43mREAD_NUM_BYTES\u001b[49m\u001b[43m,\u001b[49m\u001b[43m \u001b[49m\u001b[43mtimeout\u001b[49m\u001b[38;5;241;43m=\u001b[39;49m\u001b[43mtimeout\u001b[49m\n\u001b[1;32m    226\u001b[0m \u001b[43m    \u001b[49m\u001b[43m)\u001b[49m\n\u001b[1;32m    228\u001b[0m     \u001b[38;5;66;03m# If we feed this case through h11 we'll raise an exception like:\u001b[39;00m\n\u001b[1;32m    229\u001b[0m     \u001b[38;5;66;03m#\u001b[39;00m\n\u001b[1;32m    230\u001b[0m     \u001b[38;5;66;03m#     httpcore.RemoteProtocolError: can't handle event type\u001b[39;00m\n\u001b[0;32m   (...)\u001b[0m\n\u001b[1;32m    234\u001b[0m     \u001b[38;5;66;03m# perspective. Instead we handle this case distinctly and treat\u001b[39;00m\n\u001b[1;32m    235\u001b[0m     \u001b[38;5;66;03m# it as a ConnectError.\u001b[39;00m\n\u001b[1;32m    236\u001b[0m     \u001b[38;5;28;01mif\u001b[39;00m data \u001b[38;5;241m==\u001b[39m \u001b[38;5;124mb\u001b[39m\u001b[38;5;124m\"\u001b[39m\u001b[38;5;124m\"\u001b[39m \u001b[38;5;129;01mand\u001b[39;00m \u001b[38;5;28mself\u001b[39m\u001b[38;5;241m.\u001b[39m_h11_state\u001b[38;5;241m.\u001b[39mtheir_state \u001b[38;5;241m==\u001b[39m h11\u001b[38;5;241m.\u001b[39mSEND_RESPONSE:\n",
      "File \u001b[0;32m~/miniconda3/envs/search_env/lib/python3.12/site-packages/httpcore/_backends/sync.py:126\u001b[0m, in \u001b[0;36mSyncStream.read\u001b[0;34m(self, max_bytes, timeout)\u001b[0m\n\u001b[1;32m    124\u001b[0m \u001b[38;5;28;01mwith\u001b[39;00m map_exceptions(exc_map):\n\u001b[1;32m    125\u001b[0m     \u001b[38;5;28mself\u001b[39m\u001b[38;5;241m.\u001b[39m_sock\u001b[38;5;241m.\u001b[39msettimeout(timeout)\n\u001b[0;32m--> 126\u001b[0m     \u001b[38;5;28;01mreturn\u001b[39;00m \u001b[38;5;28;43mself\u001b[39;49m\u001b[38;5;241;43m.\u001b[39;49m\u001b[43m_sock\u001b[49m\u001b[38;5;241;43m.\u001b[39;49m\u001b[43mrecv\u001b[49m\u001b[43m(\u001b[49m\u001b[43mmax_bytes\u001b[49m\u001b[43m)\u001b[49m\n",
      "File \u001b[0;32m~/miniconda3/envs/search_env/lib/python3.12/ssl.py:1233\u001b[0m, in \u001b[0;36mSSLSocket.recv\u001b[0;34m(self, buflen, flags)\u001b[0m\n\u001b[1;32m   1229\u001b[0m     \u001b[38;5;28;01mif\u001b[39;00m flags \u001b[38;5;241m!=\u001b[39m \u001b[38;5;241m0\u001b[39m:\n\u001b[1;32m   1230\u001b[0m         \u001b[38;5;28;01mraise\u001b[39;00m \u001b[38;5;167;01mValueError\u001b[39;00m(\n\u001b[1;32m   1231\u001b[0m             \u001b[38;5;124m\"\u001b[39m\u001b[38;5;124mnon-zero flags not allowed in calls to recv() on \u001b[39m\u001b[38;5;132;01m%s\u001b[39;00m\u001b[38;5;124m\"\u001b[39m \u001b[38;5;241m%\u001b[39m\n\u001b[1;32m   1232\u001b[0m             \u001b[38;5;28mself\u001b[39m\u001b[38;5;241m.\u001b[39m\u001b[38;5;18m__class__\u001b[39m)\n\u001b[0;32m-> 1233\u001b[0m     \u001b[38;5;28;01mreturn\u001b[39;00m \u001b[38;5;28;43mself\u001b[39;49m\u001b[38;5;241;43m.\u001b[39;49m\u001b[43mread\u001b[49m\u001b[43m(\u001b[49m\u001b[43mbuflen\u001b[49m\u001b[43m)\u001b[49m\n\u001b[1;32m   1234\u001b[0m \u001b[38;5;28;01melse\u001b[39;00m:\n\u001b[1;32m   1235\u001b[0m     \u001b[38;5;28;01mreturn\u001b[39;00m \u001b[38;5;28msuper\u001b[39m()\u001b[38;5;241m.\u001b[39mrecv(buflen, flags)\n",
      "File \u001b[0;32m~/miniconda3/envs/search_env/lib/python3.12/ssl.py:1106\u001b[0m, in \u001b[0;36mSSLSocket.read\u001b[0;34m(self, len, buffer)\u001b[0m\n\u001b[1;32m   1104\u001b[0m         \u001b[38;5;28;01mreturn\u001b[39;00m \u001b[38;5;28mself\u001b[39m\u001b[38;5;241m.\u001b[39m_sslobj\u001b[38;5;241m.\u001b[39mread(\u001b[38;5;28mlen\u001b[39m, buffer)\n\u001b[1;32m   1105\u001b[0m     \u001b[38;5;28;01melse\u001b[39;00m:\n\u001b[0;32m-> 1106\u001b[0m         \u001b[38;5;28;01mreturn\u001b[39;00m \u001b[38;5;28;43mself\u001b[39;49m\u001b[38;5;241;43m.\u001b[39;49m\u001b[43m_sslobj\u001b[49m\u001b[38;5;241;43m.\u001b[39;49m\u001b[43mread\u001b[49m\u001b[43m(\u001b[49m\u001b[38;5;28;43mlen\u001b[39;49m\u001b[43m)\u001b[49m\n\u001b[1;32m   1107\u001b[0m \u001b[38;5;28;01mexcept\u001b[39;00m SSLError \u001b[38;5;28;01mas\u001b[39;00m x:\n\u001b[1;32m   1108\u001b[0m     \u001b[38;5;28;01mif\u001b[39;00m x\u001b[38;5;241m.\u001b[39margs[\u001b[38;5;241m0\u001b[39m] \u001b[38;5;241m==\u001b[39m SSL_ERROR_EOF \u001b[38;5;129;01mand\u001b[39;00m \u001b[38;5;28mself\u001b[39m\u001b[38;5;241m.\u001b[39msuppress_ragged_eofs:\n",
      "\u001b[0;31mKeyboardInterrupt\u001b[0m: "
     ]
    }
   ],
   "source": [
    "def get_prompt(grant):\n",
    "    return  [\n",
    "            {\n",
    "                \"role\": \"system\",\n",
    "                \"content\": \"You are a highly skilled summarizer specialized in grants. You are provided with detailed information about a grant and your task is to create a structured summary according to a specified format. The summary must be accurate and informative, following the given structure precisely.\"\n",
    "            },\n",
    "            {\n",
    "                \"role\": \"user\",\n",
    "                \"content\": f\"Based on the provided grant information, generate a structured summary with the following fields:\\n\\n\\\n",
    "                    1. Title: [The name or title of the grant.](Limit: 10 words)\\n\\\n",
    "                    2. Amount: [The funding details, including the minimum and maximum amounts, if specified.](Limit: 40 words)\\n\\\n",
    "                    3. Deadline: [The submission deadline(s) for the grant application.](Limit: 15 words)\\n\\\n",
    "                    4. Description: [A very detailed overview of the grant's purpose and objectives. This should be comprehensive and informative.](Limit: 200 words)\\n\\\n",
    "                    5. Eligibility: [The detailed criteria for applicants to be eligible for the grant, including any specific requirements.](Limit: 50 words)\\n\\\n",
    "                    6. Sponsor: [The organization or entity sponsoring the grant.](Limit: 20 words)\\n\\\n",
    "                    7. Categories: [The areas or fields the grant supports.](Limit: 20 words)\\n\\\n",
    "                    7. Activity: [The EXACT activity/activities the grant funds. This should be comprehensive and accurate](Limit: 70 words)\\n\\n\\\n",
    "                    Ensure that the description and eligibility sections are detailed and comprehensive. Reply in JSON format while following word limits.\\nHere is the information for the grant:\\n[{grant}]\"\n",
    "            }\n",
    "            ]\n",
    "\n",
    "for index, grant in enumerate(dict_data['grants_data']['grant']):\n",
    "    messages = get_prompt(grant)\n",
    "    \n",
    "    completion = OAIclient.chat.completions.create(\n",
    "        model='gpt-4o',\n",
    "        messages=messages,\n",
    "        temperature = 0.5)\n",
    "    resp = completion.choices[0].message.content\n",
    "    match = re.search(r'\\{.*\\}', resp, re.DOTALL)\n",
    "    summary = match.group(0)\n",
    "    grant['normalized_info'] = summary\n",
    "    if(index % 100 == 0):\n",
    "        print(f\"Processed {index} grants\")"
   ]
  },
  {
   "cell_type": "markdown",
   "metadata": {},
   "source": [
    "## Note :\n",
    "This notebook creates embeddings for both normalized summaries and the aggregated embeddings for several fields like in the basic semantic indexing notebook. This is to allow comparisons between the two methods.\n",
    "\n",
    "To add embeddings for the normalized documents only, simply alter the mappings.py and skip the 'pipeline_id' parameter in the construct_indexing_actions() method. Also skip the next cell."
   ]
  },
  {
   "cell_type": "code",
   "execution_count": 8,
   "metadata": {},
   "outputs": [],
   "source": [
    "def find_token_limit_index(tokenizer, text, max_tokens=8191):\n",
    "    tokens = tokenizer.encode(text)\n",
    "    if len(tokens) <= max_tokens:\n",
    "        return len(text)  # Return the full length of the text if it has fewer or equal tokens\n",
    "\n",
    "    truncated_tokens = tokens[:max_tokens]\n",
    "    truncated_text = tokenizer.decode(truncated_tokens)\n",
    "    \n",
    "    # Find the last character index of the truncated text in the original text\n",
    "    index = text.find(truncated_text) + len(truncated_text)\n",
    "    return index\n",
    "\n",
    "\n",
    "tokenizer = get_encoding(\"cl100k_base\")\n",
    "for data in dict_data['grants_data']['grant']:\n",
    "    data['description_truncate_length'] = find_token_limit_index(tokenizer, str(data['description']))\n",
    "    data['submission_info_truncate_length'] = find_token_limit_index(tokenizer, str(data['submission_info']))\n",
    "    data['eligibility_truncate_length'] = find_token_limit_index(tokenizer, str(data['eligibility']))"
   ]
  },
  {
   "cell_type": "code",
   "execution_count": 12,
   "metadata": {},
   "outputs": [
    {
     "name": "stdout",
     "output_type": "stream",
     "text": [
      "dict_keys(['@id', 'url', 'amount_info', 'site_grant_type', 'modified_date', 'application_url', 'title', 'all_titles', 'submission_info', 'all_grant_source_urls', 'status', 'description',\n",
      "'eligibility', 'categories_display', 'limited_grant_info', 'user_categories', 'submit_date', 'is_limited', 'site_categories', 'cost_sharing', 'grant_source_url', 'deadlines', 'amounts', 'all_types',\n",
      "'all_applicant_types', 'locations', 'sponsors', 'description_truncate_length', 'submission_info_truncate_length', 'eligibility_truncate_length', 'normalized_info'])\n"
     ]
    }
   ],
   "source": [
    "print(fill(str(dict_data['grants_data']['grant'][0].keys()), width=200))"
   ]
  },
  {
   "cell_type": "markdown",
   "metadata": {},
   "source": [
    "Connect to your ElasticSearch client."
   ]
  },
  {
   "cell_type": "code",
   "execution_count": 2,
   "metadata": {},
   "outputs": [
    {
     "data": {
      "text/plain": [
       "ObjectApiResponse({'name': '601bb54c777c', 'cluster_name': 'docker-cluster', 'cluster_uuid': 'FS5t3wmfS3y-5pkG0ZWv-A', 'version': {'number': '8.14.1', 'build_flavor': 'default', 'build_type': 'docker', 'build_hash': '93a57a1a76f556d8aee6a90d1a95b06187501310', 'build_date': '2024-06-10T23:35:17.114581191Z', 'build_snapshot': False, 'lucene_version': '9.10.0', 'minimum_wire_compatibility_version': '7.17.0', 'minimum_index_compatibility_version': '7.0.0'}, 'tagline': 'You Know, for Search'})"
      ]
     },
     "execution_count": 2,
     "metadata": {},
     "output_type": "execute_result"
    }
   ],
   "source": [
    "# Connecting to ElasticSearch container\n",
    "ESclient = Elasticsearch(\n",
    "  ELASTICSEARCH_URL,\n",
    "  basic_auth = (ELASTIC_USERNAME, ELASTIC_PASSWORD),\n",
    "  request_timeout = 60\n",
    ")\n",
    "\n",
    "ESclient.info()"
   ]
  },
  {
   "cell_type": "markdown",
   "metadata": {},
   "source": [
    "Create index with settings as defined in mappings.py. Alter the \"embeddings\" field to according to your model"
   ]
  },
  {
   "cell_type": "code",
   "execution_count": 16,
   "metadata": {},
   "outputs": [
    {
     "name": "stdout",
     "output_type": "stream",
     "text": [
      "Index 'distill_index' created successfully.\n"
     ]
    }
   ],
   "source": [
    "# ESclient.indices.delete(index = INDEX_NAME)\n",
    "index_utils.create_index(ESclient, INDEX_NAME, mappings)"
   ]
  },
  {
   "cell_type": "markdown",
   "metadata": {},
   "source": [
    "Create an inference endpoint within the ElasticSearch for embeddings"
   ]
  },
  {
   "cell_type": "code",
   "execution_count": 3,
   "metadata": {},
   "outputs": [
    {
     "name": "stdout",
     "output_type": "stream",
     "text": [
      "{'model_id': 'openai-embeddings-small', 'task_type': 'text_embedding', 'service': 'openai', 'service_settings': {'model_id': 'text-embedding-3-small', 'similarity': 'dot_product', 'dimensions': 1536}, 'task_settings': {}}\n"
     ]
    }
   ],
   "source": [
    "# add OpenAI inference endpoint for embeddings\n",
    "INFERENCE_ID = \"openai-embeddings-small\"\n",
    "EMBEDDING_MODEL = \"text-embedding-3-small\"\n",
    "try: \n",
    "    resp = ESclient.inference.put_model(\n",
    "        task_type = \"text_embedding\",\n",
    "        inference_id = INFERENCE_ID,\n",
    "        body = {\n",
    "            \"service\": \"openai\",\n",
    "            \"service_settings\": {\n",
    "                \"api_key\": OPENAI_KEY,\n",
    "                \"model_id\": EMBEDDING_MODEL,\n",
    "            },\n",
    "        },\n",
    "    )\n",
    "    print(resp)\n",
    "except Exception as e:\n",
    "    print(f\"Unexpected error: {e}\")\n"
   ]
  },
  {
   "cell_type": "markdown",
   "metadata": {},
   "source": [
    "Create an ingestion pipeline that adds embeddings to documents as they are indexed. It is defined in ingest_pipeline.py"
   ]
  },
  {
   "cell_type": "code",
   "execution_count": 26,
   "metadata": {},
   "outputs": [
    {
     "name": "stdout",
     "output_type": "stream",
     "text": [
      "{'acknowledged': True}\n"
     ]
    }
   ],
   "source": [
    "PIPELINE_ID = \"embedding_pipeline\"\n",
    "pipeline_json = get_ingest_pipeline(INFERENCE_ID)\n",
    "\n",
    "# ESclient.ingest.delete_pipeline(id=pipeline_id)\n",
    "try:\n",
    "    resp = ESclient.ingest.put_pipeline(\n",
    "        id=PIPELINE_ID,\n",
    "        body = pipeline_json\n",
    "    )\n",
    "    print(resp)\n",
    "except Exception as e:\n",
    "    print(f\"Unexpected error: {e}\") "
   ]
  },
  {
   "cell_type": "markdown",
   "metadata": {},
   "source": [
    "Index documents"
   ]
  },
  {
   "cell_type": "code",
   "execution_count": 19,
   "metadata": {},
   "outputs": [],
   "source": [
    "def batched(iterable, n):\n",
    "    \"\"\"Batch data into tuples of length n. The last batch may be shorter.\"\"\"\n",
    "    # batched('ABCDEFG', 3) --> ABC DEF G\n",
    "    if n < 1:\n",
    "        raise ValueError('n must be at least one')\n",
    "    it = iter(iterable)\n",
    "    while (batch := tuple(islice(it, n))):\n",
    "        yield batch"
   ]
  },
  {
   "cell_type": "code",
   "execution_count": 20,
   "metadata": {},
   "outputs": [],
   "source": [
    "body = index_utils.construct_indexing_actions(dict_data, INDEX_NAME, pipeline_id=PIPELINE_ID)\n",
    "batches = embed_utils.batched(body, 100)\n",
    "# print(f\"Total batches = {len(batches)}\")"
   ]
  },
  {
   "cell_type": "code",
   "execution_count": 21,
   "metadata": {},
   "outputs": [
    {
     "name": "stdout",
     "output_type": "stream",
     "text": [
      "Successfully indexed 100 documents.\n",
      "Batch 0 done\n",
      "Successfully indexed 100 documents.\n",
      "Batch 1 done\n",
      "Successfully indexed 100 documents.\n",
      "Batch 2 done\n",
      "Successfully indexed 100 documents.\n",
      "Batch 3 done\n",
      "Failed to index document {'index': {'_index': 'distill_index', '_id': '418497', 'status': 400, 'error': {'type': 'document_parsing_exception', 'reason': \"[1:120704] failed to parse field [submission_info_truncate_length] of type [short] in document with id '418497'. Preview of field's value: '35422'\", 'caused_by': {'type': 'x_content_parse_exception', 'reason': '[1:120709] Numeric value (35422) out of range of Java short\\n at [Source: (byte[])\"{\"embeddings\":[-0.004931410624149012,-8.20359479678672E-4,-0.026459856601301738,0.008429200465821804,0.01257195472640755,-0.005687967692210576,-0.006992712086598717,0.03822942605271352,8.440860214778098E-4,0.02580706505288592,0.06802776369753853,-0.02848831872385207,0.04832537313993002,-0.03657953906368772,-0.01879884162674925,0.03254303538974431,-0.029725409557369166,0.0029451524366602318,-0.01833011894987588,-0.019205237569227575,0.007195323179719828,-0.008419175790074361,-0.02029278435024117,\"[truncated 129420 bytes]; line: 1, column: 120709]', 'caused_by': {'type': 'input_coercion_exception', 'reason': 'Numeric value (35422) out of range of Java short\\n at [Source: (byte[])\"{\"embeddings\":[-0.004931410624149012,-8.20359479678672E-4,-0.026459856601301738,0.008429200465821804,0.01257195472640755,-0.005687967692210576,-0.006992712086598717,0.03822942605271352,8.440860214778098E-4,0.02580706505288592,0.06802776369753853,-0.02848831872385207,0.04832537313993002,-0.03657953906368772,-0.01879884162674925,0.03254303538974431,-0.029725409557369166,0.0029451524366602318,-0.01833011894987588,-0.019205237569227575,0.007195323179719828,-0.008419175790074361,-0.02029278435024117,\"[truncated 129420 bytes]; line: 1, column: 120709]'}}}}}\n",
      "Failed to index document {'index': {'_index': 'distill_index', '_id': '418499', 'status': 400, 'error': {'type': 'document_parsing_exception', 'reason': \"[1:120997] failed to parse field [submission_info_truncate_length] of type [short] in document with id '418499'. Preview of field's value: '35422'\", 'caused_by': {'type': 'x_content_parse_exception', 'reason': '[1:121002] Numeric value (35422) out of range of Java short\\n at [Source: (byte[])\"{\"embeddings\":[-0.009426903795522985,-0.001904808289074086,-0.029482997930344156,0.010436332585479874,0.013959449857674834,-0.01573742234891525,-0.008958806881761181,0.037244352671523796,-0.0010027396617652037,0.029954422061315687,0.06000411411077672,-0.032996916619107544,0.04602479519021596,-0.03477170443756989,-0.02041191225170884,0.037287033388458554,-0.03591174865470108,0.01612016609210494,-0.02056853402185388,-0.010216973492852534,5.690057740139951E-4,-0.007837085898965007,-0.02107586458520\"[truncated 129899 bytes]; line: 1, column: 121002]', 'caused_by': {'type': 'input_coercion_exception', 'reason': 'Numeric value (35422) out of range of Java short\\n at [Source: (byte[])\"{\"embeddings\":[-0.009426903795522985,-0.001904808289074086,-0.029482997930344156,0.010436332585479874,0.013959449857674834,-0.01573742234891525,-0.008958806881761181,0.037244352671523796,-0.0010027396617652037,0.029954422061315687,0.06000411411077672,-0.032996916619107544,0.04602479519021596,-0.03477170443756989,-0.02041191225170884,0.037287033388458554,-0.03591174865470108,0.01612016609210494,-0.02056853402185388,-0.010216973492852534,5.690057740139951E-4,-0.007837085898965007,-0.02107586458520\"[truncated 129899 bytes]; line: 1, column: 121002]'}}}}}\n",
      "Failed to index document {'index': {'_index': 'distill_index', '_id': '418501', 'status': 400, 'error': {'type': 'document_parsing_exception', 'reason': \"[1:120688] failed to parse field [submission_info_truncate_length] of type [short] in document with id '418501'. Preview of field's value: '35422'\", 'caused_by': {'type': 'x_content_parse_exception', 'reason': '[1:120693] Numeric value (35422) out of range of Java short\\n at [Source: (byte[])\"{\"embeddings\":[-0.006072614630230384,0.0052596570167998185,-0.029190251024863546,0.009369218394267471,0.011198811571229705,-0.006646105156691249,-0.006059148982501826,0.0424064330426417,0.00146467123121582,0.028628340623329335,0.06709827309949691,-0.031184143893083174,0.049401147091509175,-0.03417074426763964,-0.017864310551056587,0.041566576246010074,-0.035971630269902063,0.009163039867186173,-0.02107444972872448,-0.014591614059226668,0.007380019524079592,-0.01484536549149415,-0.011949682227070\"[truncated 129328 bytes]; line: 1, column: 120693]', 'caused_by': {'type': 'input_coercion_exception', 'reason': 'Numeric value (35422) out of range of Java short\\n at [Source: (byte[])\"{\"embeddings\":[-0.006072614630230384,0.0052596570167998185,-0.029190251024863546,0.009369218394267471,0.011198811571229705,-0.006646105156691249,-0.006059148982501826,0.0424064330426417,0.00146467123121582,0.028628340623329335,0.06709827309949691,-0.031184143893083174,0.049401147091509175,-0.03417074426763964,-0.017864310551056587,0.041566576246010074,-0.035971630269902063,0.009163039867186173,-0.02107444972872448,-0.014591614059226668,0.007380019524079592,-0.01484536549149415,-0.011949682227070\"[truncated 129328 bytes]; line: 1, column: 120693]'}}}}}\n",
      "Failed to index document {'index': {'_index': 'distill_index', '_id': '418503', 'status': 400, 'error': {'type': 'document_parsing_exception', 'reason': \"[1:120475] failed to parse field [submission_info_truncate_length] of type [short] in document with id '418503'. Preview of field's value: '35422'\", 'caused_by': {'type': 'x_content_parse_exception', 'reason': '[1:120480] Numeric value (35422) out of range of Java short\\n at [Source: (byte[])\"{\"embeddings\":[-7.997550727035481E-4,0.0011198137288362493,-0.02907621331147219,0.012996833984910142,0.009827765598930626,-0.01197631462392107,-0.009573009090449667,0.040125882060296804,0.00424452735467734,0.026175660077886364,0.0702447999777513,-0.024426162460878264,0.04889600559969852,-0.029715757689066494,-0.018599312134566764,0.0424614287775389,-0.026078967713884273,0.010331492322935294,-0.020488726898663698,-0.015749733910143646,0.007775748011579688,-0.010486666840522877,-0.0216800264244430\"[truncated 129536 bytes]; line: 1, column: 120480]', 'caused_by': {'type': 'input_coercion_exception', 'reason': 'Numeric value (35422) out of range of Java short\\n at [Source: (byte[])\"{\"embeddings\":[-7.997550727035481E-4,0.0011198137288362493,-0.02907621331147219,0.012996833984910142,0.009827765598930626,-0.01197631462392107,-0.009573009090449667,0.040125882060296804,0.00424452735467734,0.026175660077886364,0.0702447999777513,-0.024426162460878264,0.04889600559969852,-0.029715757689066494,-0.018599312134566764,0.0424614287775389,-0.026078967713884273,0.010331492322935294,-0.020488726898663698,-0.015749733910143646,0.007775748011579688,-0.010486666840522877,-0.0216800264244430\"[truncated 129536 bytes]; line: 1, column: 120480]'}}}}}\n",
      "Failed to index document {'index': {'_index': 'distill_index', '_id': '418505', 'status': 400, 'error': {'type': 'document_parsing_exception', 'reason': \"[1:120188] failed to parse field [submission_info_truncate_length] of type [short] in document with id '418505'. Preview of field's value: '35422'\", 'caused_by': {'type': 'x_content_parse_exception', 'reason': '[1:120193] Numeric value (35422) out of range of Java short\\n at [Source: (byte[])\"{\"embeddings\":[-4.779659131832876E-4,0.0046927772493432105,-0.02800976013682724,0.016774854133048807,0.015536111301557878,-0.01622381326826829,-0.006458558086641219,0.03993404908639952,0.011000451183572572,0.027977090986053714,0.06233490378749431,-0.03143490179826196,0.05738308743285796,-0.030701313504580698,-0.01303172273631934,0.04281472236816395,-0.032937304291817446,0.006149077219697526,-0.021754100270479988,-0.016858201541132174,0.004008282150305643,-0.015416813750994985,-0.0160681613414638\"[truncated 129063 bytes]; line: 1, column: 120193]', 'caused_by': {'type': 'input_coercion_exception', 'reason': 'Numeric value (35422) out of range of Java short\\n at [Source: (byte[])\"{\"embeddings\":[-4.779659131832876E-4,0.0046927772493432105,-0.02800976013682724,0.016774854133048807,0.015536111301557878,-0.01622381326826829,-0.006458558086641219,0.03993404908639952,0.011000451183572572,0.027977090986053714,0.06233490378749431,-0.03143490179826196,0.05738308743285796,-0.030701313504580698,-0.01303172273631934,0.04281472236816395,-0.032937304291817446,0.006149077219697526,-0.021754100270479988,-0.016858201541132174,0.004008282150305643,-0.015416813750994985,-0.0160681613414638\"[truncated 129063 bytes]; line: 1, column: 120193]'}}}}}\n",
      "Failed to index document {'index': {'_index': 'distill_index', '_id': '418507', 'status': 400, 'error': {'type': 'document_parsing_exception', 'reason': \"[1:121947] failed to parse field [submission_info_truncate_length] of type [short] in document with id '418507'. Preview of field's value: '35422'\", 'caused_by': {'type': 'x_content_parse_exception', 'reason': '[1:121952] Numeric value (35422) out of range of Java short\\n at [Source: (byte[])\"{\"embeddings\":[-0.009037247044473805,0.009672899784435024,-0.028493832592397662,0.013717255529757317,0.015211567526082144,-0.013109080911859259,-0.004596747983953466,0.03394237895215802,0.002291563015548686,0.016477974958250326,0.06947955125019303,-0.028898645661122095,0.0402017538948085,-0.03728143957960106,-0.02552820926567577,0.029361560242022845,-0.02610784735170909,0.013204218595812197,-0.01340453535939107,-0.008332617090244153,-0.0017487649906064104,-0.011304976409103488,-0.014156347732327\"[truncated 130799 bytes]; line: 1, column: 121952]', 'caused_by': {'type': 'input_coercion_exception', 'reason': 'Numeric value (35422) out of range of Java short\\n at [Source: (byte[])\"{\"embeddings\":[-0.009037247044473805,0.009672899784435024,-0.028493832592397662,0.013717255529757317,0.015211567526082144,-0.013109080911859259,-0.004596747983953466,0.03394237895215802,0.002291563015548686,0.016477974958250326,0.06947955125019303,-0.028898645661122095,0.0402017538948085,-0.03728143957960106,-0.02552820926567577,0.029361560242022845,-0.02610784735170909,0.013204218595812197,-0.01340453535939107,-0.008332617090244153,-0.0017487649906064104,-0.011304976409103488,-0.014156347732327\"[truncated 130799 bytes]; line: 1, column: 121952]'}}}}}\n",
      "Failed to index document {'index': {'_index': 'distill_index', '_id': '418514', 'status': 400, 'error': {'type': 'document_parsing_exception', 'reason': \"[1:120524] failed to parse field [submission_info_truncate_length] of type [short] in document with id '418514'. Preview of field's value: '35422'\", 'caused_by': {'type': 'x_content_parse_exception', 'reason': '[1:120529] Numeric value (35422) out of range of Java short\\n at [Source: (byte[])\"{\"embeddings\":[-0.010496235026940975,0.003208838889449744,-0.027919284772592153,0.012994756063717456,0.017731785470444877,-0.012450980634706647,-0.015388994183753368,0.029000018243863245,0.004434735439465159,0.018909581398322484,0.059529113970949864,-0.02176795734018021,0.05144291148742024,-0.03634448433720963,-0.01743592229940844,0.030283756185699746,-0.031929397719722766,0.007830340006956834,-0.00909787727543712,-0.01593849468632387,-1.6814544644052368E-4,-0.010090825958256432,-0.0103132781299\"[truncated 129297 bytes]; line: 1, column: 120529]', 'caused_by': {'type': 'input_coercion_exception', 'reason': 'Numeric value (35422) out of range of Java short\\n at [Source: (byte[])\"{\"embeddings\":[-0.010496235026940975,0.003208838889449744,-0.027919284772592153,0.012994756063717456,0.017731785470444877,-0.012450980634706647,-0.015388994183753368,0.029000018243863245,0.004434735439465159,0.018909581398322484,0.059529113970949864,-0.02176795734018021,0.05144291148742024,-0.03634448433720963,-0.01743592229940844,0.030283756185699746,-0.031929397719722766,0.007830340006956834,-0.00909787727543712,-0.01593849468632387,-1.6814544644052368E-4,-0.010090825958256432,-0.0103132781299\"[truncated 129297 bytes]; line: 1, column: 120529]'}}}}}\n",
      "Failed to index document {'index': {'_index': 'distill_index', '_id': '418518', 'status': 400, 'error': {'type': 'document_parsing_exception', 'reason': \"[1:121724] failed to parse field [submission_info_truncate_length] of type [short] in document with id '418518'. Preview of field's value: '35422'\", 'caused_by': {'type': 'x_content_parse_exception', 'reason': '[1:121729] Numeric value (35422) out of range of Java short\\n at [Source: (byte[])\"{\"embeddings\":[-0.0036268045657226423,0.012702706717381293,-0.029494788940023275,0.009748831874683866,0.016937862792408973,-0.01844663285478926,-0.006413354373604553,0.04224794156035937,0.009967139629344708,0.028533624124145278,0.05983995081474589,-0.03732693505424131,0.052315230573230294,-0.031741557371702374,-0.015832398811862373,0.028572563626713995,-0.02575289599247295,0.010845881529006018,-0.0281971556028665,-0.017610687035683983,0.004191929954031687,-0.011864261187553845,-0.012383953470840\"[truncated 130672 bytes]; line: 1, column: 121729]', 'caused_by': {'type': 'input_coercion_exception', 'reason': 'Numeric value (35422) out of range of Java short\\n at [Source: (byte[])\"{\"embeddings\":[-0.0036268045657226423,0.012702706717381293,-0.029494788940023275,0.009748831874683866,0.016937862792408973,-0.01844663285478926,-0.006413354373604553,0.04224794156035937,0.009967139629344708,0.028533624124145278,0.05983995081474589,-0.03732693505424131,0.052315230573230294,-0.031741557371702374,-0.015832398811862373,0.028572563626713995,-0.02575289599247295,0.010845881529006018,-0.0281971556028665,-0.017610687035683983,0.004191929954031687,-0.011864261187553845,-0.012383953470840\"[truncated 130672 bytes]; line: 1, column: 121729]'}}}}}\n",
      "Failed to index document {'index': {'_index': 'distill_index', '_id': '418524', 'status': 400, 'error': {'type': 'document_parsing_exception', 'reason': \"[1:120700] failed to parse field [submission_info_truncate_length] of type [short] in document with id '418524'. Preview of field's value: '35422'\", 'caused_by': {'type': 'x_content_parse_exception', 'reason': '[1:120705] Numeric value (35422) out of range of Java short\\n at [Source: (byte[])\"{\"embeddings\":[-0.007220391099224721,0.0018305414578313444,-0.02933349560029104,0.0147530823372871,0.011935070758705242,-0.01094491338492318,-0.003415294733022695,0.03813809228049811,0.009381081058934987,0.03065937874544552,0.06367879507022067,-0.027415318756973454,0.05026213855634343,-0.04054165154158643,-0.0205996378809961,0.03814653398277169,-0.026505839161561386,0.016956367060217054,-0.02737907110925465,-0.012827628023716314,-9.858351543527756E-4,-0.011408201702814825,-0.01899820097886948,0.\"[truncated 129629 bytes]; line: 1, column: 120705]', 'caused_by': {'type': 'input_coercion_exception', 'reason': 'Numeric value (35422) out of range of Java short\\n at [Source: (byte[])\"{\"embeddings\":[-0.007220391099224721,0.0018305414578313444,-0.02933349560029104,0.0147530823372871,0.011935070758705242,-0.01094491338492318,-0.003415294733022695,0.03813809228049811,0.009381081058934987,0.03065937874544552,0.06367879507022067,-0.027415318756973454,0.05026213855634343,-0.04054165154158643,-0.0205996378809961,0.03814653398277169,-0.026505839161561386,0.016956367060217054,-0.02737907110925465,-0.012827628023716314,-9.858351543527756E-4,-0.011408201702814825,-0.01899820097886948,0.\"[truncated 129629 bytes]; line: 1, column: 120705]'}}}}}\n",
      "Failed to index document {'index': {'_index': 'distill_index', '_id': '418526', 'status': 400, 'error': {'type': 'document_parsing_exception', 'reason': \"[1:120742] failed to parse field [submission_info_truncate_length] of type [short] in document with id '418526'. Preview of field's value: '35422'\", 'caused_by': {'type': 'x_content_parse_exception', 'reason': '[1:120747] Numeric value (35422) out of range of Java short\\n at [Source: (byte[])\"{\"embeddings\":[-0.002256439357849383,0.006464468864110776,-0.030051967960838057,0.013458350901529326,0.021002432388718517,-0.012331880200743934,-0.005405786872283157,0.04088797364655558,0.00633764605223249,0.023315371304070034,0.06129296832225748,-0.033780756400251896,0.051472749562822606,-0.038469810097467715,-0.022463404006786182,0.04012242463066522,-0.0357048466600758,0.015450279280339088,-0.0318128419048403,-0.013467200181326695,0.0024607146278844516,-0.009972039861276597,-0.0159561065330423\"[truncated 129836 bytes]; line: 1, column: 120747]', 'caused_by': {'type': 'input_coercion_exception', 'reason': 'Numeric value (35422) out of range of Java short\\n at [Source: (byte[])\"{\"embeddings\":[-0.002256439357849383,0.006464468864110776,-0.030051967960838057,0.013458350901529326,0.021002432388718517,-0.012331880200743934,-0.005405786872283157,0.04088797364655558,0.00633764605223249,0.023315371304070034,0.06129296832225748,-0.033780756400251896,0.051472749562822606,-0.038469810097467715,-0.022463404006786182,0.04012242463066522,-0.0357048466600758,0.015450279280339088,-0.0318128419048403,-0.013467200181326695,0.0024607146278844516,-0.009972039861276597,-0.0159561065330423\"[truncated 129836 bytes]; line: 1, column: 120747]'}}}}}\n",
      "Failed to index document {'index': {'_index': 'distill_index', '_id': '418528', 'status': 400, 'error': {'type': 'document_parsing_exception', 'reason': \"[1:120595] failed to parse field [submission_info_truncate_length] of type [short] in document with id '418528'. Preview of field's value: '35422'\", 'caused_by': {'type': 'x_content_parse_exception', 'reason': '[1:120600] Numeric value (35422) out of range of Java short\\n at [Source: (byte[])\"{\"embeddings\":[-0.004134156646280657,0.006232397534481429,-0.03009649674529731,0.011014202792646168,0.023115924007666447,-0.009481522704622018,-0.004053773279292333,0.039527475195676086,0.003067797490644976,0.028631416943255515,0.06058023707495793,-0.029505344405102406,0.048177733764518546,-0.031359419253628194,-0.021041812971367497,0.041590089608668224,-0.029182913842596494,0.013720022994119806,-0.025084854788840996,-0.012431379570081403,0.005616552756921632,-0.005607037848957763,-0.01712175990\"[truncated 129734 bytes]; line: 1, column: 120600]', 'caused_by': {'type': 'input_coercion_exception', 'reason': 'Numeric value (35422) out of range of Java short\\n at [Source: (byte[])\"{\"embeddings\":[-0.004134156646280657,0.006232397534481429,-0.03009649674529731,0.011014202792646168,0.023115924007666447,-0.009481522704622018,-0.004053773279292333,0.039527475195676086,0.003067797490644976,0.028631416943255515,0.06058023707495793,-0.029505344405102406,0.048177733764518546,-0.031359419253628194,-0.021041812971367497,0.041590089608668224,-0.029182913842596494,0.013720022994119806,-0.025084854788840996,-0.012431379570081403,0.005616552756921632,-0.005607037848957763,-0.01712175990\"[truncated 129734 bytes]; line: 1, column: 120600]'}}}}}\n",
      "Failed to index document {'index': {'_index': 'distill_index', '_id': '418529', 'status': 400, 'error': {'type': 'document_parsing_exception', 'reason': \"[1:120721] failed to parse field [submission_info_truncate_length] of type [short] in document with id '418529'. Preview of field's value: '35422'\", 'caused_by': {'type': 'x_content_parse_exception', 'reason': '[1:120726] Numeric value (35422) out of range of Java short\\n at [Source: (byte[])\"{\"embeddings\":[-0.009548434696443266,0.001060633876631061,-0.029459687601997804,0.007080676353095129,0.009468941211695198,-0.02210673305892048,-0.008011680524072778,0.04157408692538704,-0.002711763178986628,0.022391801529720298,0.06448243771273265,-0.030057681456170517,0.04987383149803475,-0.03665254157744276,-0.016341531006844576,0.039964432181504285,-0.030029228442332478,0.01471081846892632,-0.01913883423280528,-0.008317282612682312,0.0025284101934148844,-0.008402383174953907,-0.01604732919004\"[truncated 129739 bytes]; line: 1, column: 120726]', 'caused_by': {'type': 'input_coercion_exception', 'reason': 'Numeric value (35422) out of range of Java short\\n at [Source: (byte[])\"{\"embeddings\":[-0.009548434696443266,0.001060633876631061,-0.029459687601997804,0.007080676353095129,0.009468941211695198,-0.02210673305892048,-0.008011680524072778,0.04157408692538704,-0.002711763178986628,0.022391801529720298,0.06448243771273265,-0.030057681456170517,0.04987383149803475,-0.03665254157744276,-0.016341531006844576,0.039964432181504285,-0.030029228442332478,0.01471081846892632,-0.01913883423280528,-0.008317282612682312,0.0025284101934148844,-0.008402383174953907,-0.01604732919004\"[truncated 129739 bytes]; line: 1, column: 120726]'}}}}}\n",
      "Failed to index document {'index': {'_index': 'distill_index', '_id': '418530', 'status': 400, 'error': {'type': 'document_parsing_exception', 'reason': \"[1:120130] failed to parse field [submission_info_truncate_length] of type [short] in document with id '418530'. Preview of field's value: '35422'\", 'caused_by': {'type': 'x_content_parse_exception', 'reason': '[1:120135] Numeric value (35422) out of range of Java short\\n at [Source: (byte[])\"{\"embeddings\":[0.004800435859855877,0.005878683761928804,-0.026810317677278508,0.009232692376165372,0.019939224742647102,-0.012075033262999914,-0.008369955634269847,0.039811446639628524,0.002345953111396244,0.02445606361379376,0.06436203517155274,-0.03023099372436161,0.05389318264651953,-0.031075035219273232,-0.012382080325781385,0.03141649067525033,-0.034598029041740086,0.008555473873356778,-0.02013469389761913,-0.010585573799974886,-4.332387471425701E-4,-0.01030472052608733,-0.0168510155218282\"[truncated 128976 bytes]; line: 1, column: 120135]', 'caused_by': {'type': 'input_coercion_exception', 'reason': 'Numeric value (35422) out of range of Java short\\n at [Source: (byte[])\"{\"embeddings\":[0.004800435859855877,0.005878683761928804,-0.026810317677278508,0.009232692376165372,0.019939224742647102,-0.012075033262999914,-0.008369955634269847,0.039811446639628524,0.002345953111396244,0.02445606361379376,0.06436203517155274,-0.03023099372436161,0.05389318264651953,-0.031075035219273232,-0.012382080325781385,0.03141649067525033,-0.034598029041740086,0.008555473873356778,-0.02013469389761913,-0.010585573799974886,-4.332387471425701E-4,-0.01030472052608733,-0.0168510155218282\"[truncated 128976 bytes]; line: 1, column: 120135]'}}}}}\n",
      "Failed to index document {'index': {'_index': 'distill_index', '_id': '418532', 'status': 400, 'error': {'type': 'document_parsing_exception', 'reason': \"[1:120270] failed to parse field [submission_info_truncate_length] of type [short] in document with id '418532'. Preview of field's value: '35422'\", 'caused_by': {'type': 'x_content_parse_exception', 'reason': '[1:120275] Numeric value (35422) out of range of Java short\\n at [Source: (byte[])\"{\"embeddings\":[-0.004919203771111886,0.009211848019104877,-0.02744761570680959,0.012234639006442964,0.02243393402000038,-0.019868245415416413,-0.0020466429564401536,0.03837061768947664,0.00994263328905441,0.02184816363578563,0.06094562906777579,-0.031246017119328007,0.0588120190687722,-0.03685582534317528,-0.01754090917473129,0.027711044986451674,-0.03341346597572816,0.008948826730097914,-0.019135268105108134,-0.013642286527162595,0.00411708371700154,-0.007438166103633361,-0.01728191692507849,-0\"[truncated 129262 bytes]; line: 1, column: 120275]', 'caused_by': {'type': 'input_coercion_exception', 'reason': 'Numeric value (35422) out of range of Java short\\n at [Source: (byte[])\"{\"embeddings\":[-0.004919203771111886,0.009211848019104877,-0.02744761570680959,0.012234639006442964,0.02243393402000038,-0.019868245415416413,-0.0020466429564401536,0.03837061768947664,0.00994263328905441,0.02184816363578563,0.06094562906777579,-0.031246017119328007,0.0588120190687722,-0.03685582534317528,-0.01754090917473129,0.027711044986451674,-0.03341346597572816,0.008948826730097914,-0.019135268105108134,-0.013642286527162595,0.00411708371700154,-0.007438166103633361,-0.01728191692507849,-0\"[truncated 129262 bytes]; line: 1, column: 120275]'}}}}}\n",
      "Failed to index document {'index': {'_index': 'distill_index', '_id': '418533', 'status': 400, 'error': {'type': 'document_parsing_exception', 'reason': \"[1:120326] failed to parse field [submission_info_truncate_length] of type [short] in document with id '418533'. Preview of field's value: '35422'\", 'caused_by': {'type': 'x_content_parse_exception', 'reason': '[1:120331] Numeric value (35422) out of range of Java short\\n at [Source: (byte[])\"{\"embeddings\":[-0.008085484389888493,0.007008401082566764,-0.028072548966782445,0.012643127068248137,0.01910519074488598,-0.009120340454221491,-0.00579254030761706,0.043232866133254215,0.001910823479790253,0.022763299964696504,0.06479157063273555,-0.030116421022158064,0.04692133945446919,-0.0420930656483409,-0.021884196166835533,0.03424863997397491,-0.02869399286329949,0.017300366404612046,-0.020239000825673596,-0.013725691535959044,0.007003120813759105,-0.017474487094050212,-0.01692626393012956\"[truncated 128982 bytes]; line: 1, column: 120331]', 'caused_by': {'type': 'input_coercion_exception', 'reason': 'Numeric value (35422) out of range of Java short\\n at [Source: (byte[])\"{\"embeddings\":[-0.008085484389888493,0.007008401082566764,-0.028072548966782445,0.012643127068248137,0.01910519074488598,-0.009120340454221491,-0.00579254030761706,0.043232866133254215,0.001910823479790253,0.022763299964696504,0.06479157063273555,-0.030116421022158064,0.04692133945446919,-0.0420930656483409,-0.021884196166835533,0.03424863997397491,-0.02869399286329949,0.017300366404612046,-0.020239000825673596,-0.013725691535959044,0.007003120813759105,-0.017474487094050212,-0.01692626393012956\"[truncated 128982 bytes]; line: 1, column: 120331]'}}}}}\n",
      "Failed to index document {'index': {'_index': 'distill_index', '_id': '418535', 'status': 400, 'error': {'type': 'document_parsing_exception', 'reason': \"[1:122993] failed to parse field [submission_info_truncate_length] of type [short] in document with id '418535'. Preview of field's value: '35422'\", 'caused_by': {'type': 'x_content_parse_exception', 'reason': '[1:122998] Numeric value (35422) out of range of Java short\\n at [Source: (byte[])\"{\"embeddings\":[-0.01197979819999359,0.003954176921850874,-0.028491024756610712,0.01416742868237471,0.025048358682707755,-0.006964360514643976,-0.007165210904447249,0.043371578553781154,0.011561146534913086,0.03607856373340686,0.05517212526469748,-0.04004160940713922,0.0490177431486839,-0.03086276850584921,-0.02445712409809531,0.03223349006642335,-0.02153009796006814,0.01119735312946182,-0.0246468789065518,-0.019443118442933238,2.7501790126350823E-4,-0.006917256603629229,-0.022140314654759484,0.0\"[truncated 131852 bytes]; line: 1, column: 122998]', 'caused_by': {'type': 'input_coercion_exception', 'reason': 'Numeric value (35422) out of range of Java short\\n at [Source: (byte[])\"{\"embeddings\":[-0.01197979819999359,0.003954176921850874,-0.028491024756610712,0.01416742868237471,0.025048358682707755,-0.006964360514643976,-0.007165210904447249,0.043371578553781154,0.011561146534913086,0.03607856373340686,0.05517212526469748,-0.04004160940713922,0.0490177431486839,-0.03086276850584921,-0.02445712409809531,0.03223349006642335,-0.02153009796006814,0.01119735312946182,-0.0246468789065518,-0.019443118442933238,2.7501790126350823E-4,-0.006917256603629229,-0.022140314654759484,0.0\"[truncated 131852 bytes]; line: 1, column: 122998]'}}}}}\n",
      "Failed to index document {'index': {'_index': 'distill_index', '_id': '418537', 'status': 400, 'error': {'type': 'document_parsing_exception', 'reason': \"[1:121830] failed to parse field [submission_info_truncate_length] of type [short] in document with id '418537'. Preview of field's value: '35422'\", 'caused_by': {'type': 'x_content_parse_exception', 'reason': '[1:121835] Numeric value (35422) out of range of Java short\\n at [Source: (byte[])\"{\"embeddings\":[-0.007927166266911596,0.002566103533935148,-0.026298706585693492,0.01670794741519194,0.02011811343185867,-0.01748356736448543,-0.003669544377763197,0.044523469580733555,0.011936739570899801,0.035833147128552956,0.06201313713498601,-0.029800701533212515,0.052769613035709595,-0.031097874862895333,-0.02505432821593993,0.04238194375842381,-0.029963018659747074,0.01730810844675128,-0.02913323278984176,-0.013802525785703255,-8.31485336978983E-4,-0.005755397373437477,-0.01489094727756621\"[truncated 130724 bytes]; line: 1, column: 121835]', 'caused_by': {'type': 'input_coercion_exception', 'reason': 'Numeric value (35422) out of range of Java short\\n at [Source: (byte[])\"{\"embeddings\":[-0.007927166266911596,0.002566103533935148,-0.026298706585693492,0.01670794741519194,0.02011811343185867,-0.01748356736448543,-0.003669544377763197,0.044523469580733555,0.011936739570899801,0.035833147128552956,0.06201313713498601,-0.029800701533212515,0.052769613035709595,-0.031097874862895333,-0.02505432821593993,0.04238194375842381,-0.029963018659747074,0.01730810844675128,-0.02913323278984176,-0.013802525785703255,-8.31485336978983E-4,-0.005755397373437477,-0.01489094727756621\"[truncated 130724 bytes]; line: 1, column: 121835]'}}}}}\n",
      "Failed to index document {'index': {'_index': 'distill_index', '_id': '418540', 'status': 400, 'error': {'type': 'document_parsing_exception', 'reason': \"[1:122325] failed to parse field [submission_info_truncate_length] of type [short] in document with id '418540'. Preview of field's value: '35422'\", 'caused_by': {'type': 'x_content_parse_exception', 'reason': '[1:122330] Numeric value (35422) out of range of Java short\\n at [Source: (byte[])\"{\"embeddings\":[-0.019353270169265174,0.009423210728701534,-0.030498281108518602,0.016149474412700985,0.021048620353396295,-0.010395635166929635,-0.005093523871975811,0.046954874044468305,0.009353368146805896,0.03154918327880769,0.06134524317828904,-0.03768746135407756,0.05411100955533221,-0.030661799353180863,-0.024348829636807838,0.02979910524338639,-0.029558539609934834,0.012431870953831711,-0.024398225872129198,-0.01676027431016242,0.0034871531572687815,0.002166549572436672,-0.021092160427557\"[truncated 131185 bytes]; line: 1, column: 122330]', 'caused_by': {'type': 'input_coercion_exception', 'reason': 'Numeric value (35422) out of range of Java short\\n at [Source: (byte[])\"{\"embeddings\":[-0.019353270169265174,0.009423210728701534,-0.030498281108518602,0.016149474412700985,0.021048620353396295,-0.010395635166929635,-0.005093523871975811,0.046954874044468305,0.009353368146805896,0.03154918327880769,0.06134524317828904,-0.03768746135407756,0.05411100955533221,-0.030661799353180863,-0.024348829636807838,0.02979910524338639,-0.029558539609934834,0.012431870953831711,-0.024398225872129198,-0.01676027431016242,0.0034871531572687815,0.002166549572436672,-0.021092160427557\"[truncated 131185 bytes]; line: 1, column: 122330]'}}}}}\n",
      "Batch 4 done\n",
      "Successfully indexed 100 documents.\n",
      "Batch 5 done\n",
      "Successfully indexed 100 documents.\n",
      "Batch 6 done\n",
      "Successfully indexed 100 documents.\n",
      "Batch 7 done\n",
      "Successfully indexed 100 documents.\n",
      "Batch 8 done\n",
      "Successfully indexed 100 documents.\n",
      "Batch 9 done\n",
      "Successfully indexed 100 documents.\n",
      "Batch 10 done\n",
      "Successfully indexed 100 documents.\n",
      "Batch 11 done\n"
     ]
    }
   ],
   "source": [
    "for n,batch in enumerate(batches):\n",
    "    index_utils.bulk_index_documents(ESclient, batch, chunk_size=100)\n",
    "    print(f\"Batch {n} done\")"
   ]
  },
  {
   "cell_type": "code",
   "execution_count": 27,
   "metadata": {},
   "outputs": [
    {
     "data": {
      "text/plain": [
       "ObjectApiResponse({'_shards': {'total': 2, 'successful': 1, 'failed': 0}, '_all': {'primaries': {'docs': {'count': 1182, 'deleted': 0, 'total_size_in_bytes': 86466706}, 'shard_stats': {'total_count': 1}, 'store': {'size_in_bytes': 86467211, 'total_data_set_size_in_bytes': 86467211, 'reserved_in_bytes': 0}, 'indexing': {'index_total': 1182, 'index_time_in_millis': 3149, 'index_current': 0, 'index_failed': 0, 'delete_total': 0, 'delete_time_in_millis': 0, 'delete_current': 0, 'noop_update_total': 0, 'is_throttled': False, 'throttle_time_in_millis': 0, 'write_load': 0.005242660263708502}, 'get': {'total': 0, 'time_in_millis': 0, 'exists_total': 0, 'exists_time_in_millis': 0, 'missing_total': 0, 'missing_time_in_millis': 0, 'current': 0}, 'search': {'open_contexts': 0, 'query_total': 0, 'query_time_in_millis': 0, 'query_current': 0, 'fetch_total': 0, 'fetch_time_in_millis': 0, 'fetch_current': 0, 'scroll_total': 0, 'scroll_time_in_millis': 0, 'scroll_current': 0, 'suggest_total': 0, 'suggest_time_in_millis': 0, 'suggest_current': 0}, 'merges': {'current': 0, 'current_docs': 0, 'current_size_in_bytes': 0, 'total': 0, 'total_time_in_millis': 0, 'total_docs': 0, 'total_size_in_bytes': 0, 'total_stopped_time_in_millis': 0, 'total_throttled_time_in_millis': 0, 'total_auto_throttle_in_bytes': 20971520}, 'refresh': {'total': 12, 'total_time_in_millis': 7, 'external_total': 8, 'external_total_time_in_millis': 0, 'listeners': 0}, 'flush': {'total': 4, 'periodic': 4, 'total_time_in_millis': 1144, 'total_time_excluding_waiting_on_lock_in_millis': 1144}, 'warmer': {'current': 0, 'total': 3, 'total_time_in_millis': 0}, 'query_cache': {'memory_size_in_bytes': 0, 'total_count': 0, 'hit_count': 0, 'miss_count': 0, 'cache_size': 0, 'cache_count': 0, 'evictions': 0}, 'fielddata': {'memory_size_in_bytes': 0, 'evictions': 0, 'global_ordinals': {'build_time_in_millis': 0}}, 'completion': {'size_in_bytes': 0}, 'segments': {'count': 3, 'memory_in_bytes': 0, 'terms_memory_in_bytes': 0, 'stored_fields_memory_in_bytes': 0, 'term_vectors_memory_in_bytes': 0, 'norms_memory_in_bytes': 0, 'points_memory_in_bytes': 0, 'doc_values_memory_in_bytes': 0, 'index_writer_memory_in_bytes': 0, 'version_map_memory_in_bytes': 0, 'fixed_bit_set_memory_in_bytes': 0, 'max_unsafe_auto_id_timestamp': -1, 'file_sizes': {}}, 'translog': {'operations': 0, 'size_in_bytes': 55, 'uncommitted_operations': 0, 'uncommitted_size_in_bytes': 55, 'earliest_last_modified_age': 397736}, 'request_cache': {'memory_size_in_bytes': 0, 'evictions': 0, 'hit_count': 0, 'miss_count': 0}, 'recovery': {'current_as_source': 0, 'current_as_target': 0, 'throttle_time_in_millis': 0}, 'bulk': {'total_operations': 12, 'total_time_in_millis': 3238, 'total_size_in_bytes': 91575231, 'avg_time_in_millis': 193, 'avg_size_in_bytes': 5494655}, 'dense_vector': {'value_count': 1182}}, 'total': {'docs': {'count': 1182, 'deleted': 0, 'total_size_in_bytes': 86466706}, 'shard_stats': {'total_count': 1}, 'store': {'size_in_bytes': 86467211, 'total_data_set_size_in_bytes': 86467211, 'reserved_in_bytes': 0}, 'indexing': {'index_total': 1182, 'index_time_in_millis': 3149, 'index_current': 0, 'index_failed': 0, 'delete_total': 0, 'delete_time_in_millis': 0, 'delete_current': 0, 'noop_update_total': 0, 'is_throttled': False, 'throttle_time_in_millis': 0, 'write_load': 0.005242660263708502}, 'get': {'total': 0, 'time_in_millis': 0, 'exists_total': 0, 'exists_time_in_millis': 0, 'missing_total': 0, 'missing_time_in_millis': 0, 'current': 0}, 'search': {'open_contexts': 0, 'query_total': 0, 'query_time_in_millis': 0, 'query_current': 0, 'fetch_total': 0, 'fetch_time_in_millis': 0, 'fetch_current': 0, 'scroll_total': 0, 'scroll_time_in_millis': 0, 'scroll_current': 0, 'suggest_total': 0, 'suggest_time_in_millis': 0, 'suggest_current': 0}, 'merges': {'current': 0, 'current_docs': 0, 'current_size_in_bytes': 0, 'total': 0, 'total_time_in_millis': 0, 'total_docs': 0, 'total_size_in_bytes': 0, 'total_stopped_time_in_millis': 0, 'total_throttled_time_in_millis': 0, 'total_auto_throttle_in_bytes': 20971520}, 'refresh': {'total': 12, 'total_time_in_millis': 7, 'external_total': 8, 'external_total_time_in_millis': 0, 'listeners': 0}, 'flush': {'total': 4, 'periodic': 4, 'total_time_in_millis': 1144, 'total_time_excluding_waiting_on_lock_in_millis': 1144}, 'warmer': {'current': 0, 'total': 3, 'total_time_in_millis': 0}, 'query_cache': {'memory_size_in_bytes': 0, 'total_count': 0, 'hit_count': 0, 'miss_count': 0, 'cache_size': 0, 'cache_count': 0, 'evictions': 0}, 'fielddata': {'memory_size_in_bytes': 0, 'evictions': 0, 'global_ordinals': {'build_time_in_millis': 0}}, 'completion': {'size_in_bytes': 0}, 'segments': {'count': 3, 'memory_in_bytes': 0, 'terms_memory_in_bytes': 0, 'stored_fields_memory_in_bytes': 0, 'term_vectors_memory_in_bytes': 0, 'norms_memory_in_bytes': 0, 'points_memory_in_bytes': 0, 'doc_values_memory_in_bytes': 0, 'index_writer_memory_in_bytes': 0, 'version_map_memory_in_bytes': 0, 'fixed_bit_set_memory_in_bytes': 0, 'max_unsafe_auto_id_timestamp': -1, 'file_sizes': {}}, 'translog': {'operations': 0, 'size_in_bytes': 55, 'uncommitted_operations': 0, 'uncommitted_size_in_bytes': 55, 'earliest_last_modified_age': 397736}, 'request_cache': {'memory_size_in_bytes': 0, 'evictions': 0, 'hit_count': 0, 'miss_count': 0}, 'recovery': {'current_as_source': 0, 'current_as_target': 0, 'throttle_time_in_millis': 0}, 'bulk': {'total_operations': 12, 'total_time_in_millis': 3238, 'total_size_in_bytes': 91575231, 'avg_time_in_millis': 193, 'avg_size_in_bytes': 5494655}, 'dense_vector': {'value_count': 1182}}}, 'indices': {'distill_index': {'uuid': 'rbhgkPYgTC664gtUhDv42w', 'health': 'yellow', 'status': 'open', 'primaries': {'docs': {'count': 1182, 'deleted': 0, 'total_size_in_bytes': 86466706}, 'shard_stats': {'total_count': 1}, 'store': {'size_in_bytes': 86467211, 'total_data_set_size_in_bytes': 86467211, 'reserved_in_bytes': 0}, 'indexing': {'index_total': 1182, 'index_time_in_millis': 3149, 'index_current': 0, 'index_failed': 0, 'delete_total': 0, 'delete_time_in_millis': 0, 'delete_current': 0, 'noop_update_total': 0, 'is_throttled': False, 'throttle_time_in_millis': 0, 'write_load': 0.005242660263708502}, 'get': {'total': 0, 'time_in_millis': 0, 'exists_total': 0, 'exists_time_in_millis': 0, 'missing_total': 0, 'missing_time_in_millis': 0, 'current': 0}, 'search': {'open_contexts': 0, 'query_total': 0, 'query_time_in_millis': 0, 'query_current': 0, 'fetch_total': 0, 'fetch_time_in_millis': 0, 'fetch_current': 0, 'scroll_total': 0, 'scroll_time_in_millis': 0, 'scroll_current': 0, 'suggest_total': 0, 'suggest_time_in_millis': 0, 'suggest_current': 0}, 'merges': {'current': 0, 'current_docs': 0, 'current_size_in_bytes': 0, 'total': 0, 'total_time_in_millis': 0, 'total_docs': 0, 'total_size_in_bytes': 0, 'total_stopped_time_in_millis': 0, 'total_throttled_time_in_millis': 0, 'total_auto_throttle_in_bytes': 20971520}, 'refresh': {'total': 12, 'total_time_in_millis': 7, 'external_total': 8, 'external_total_time_in_millis': 0, 'listeners': 0}, 'flush': {'total': 4, 'periodic': 4, 'total_time_in_millis': 1144, 'total_time_excluding_waiting_on_lock_in_millis': 1144}, 'warmer': {'current': 0, 'total': 3, 'total_time_in_millis': 0}, 'query_cache': {'memory_size_in_bytes': 0, 'total_count': 0, 'hit_count': 0, 'miss_count': 0, 'cache_size': 0, 'cache_count': 0, 'evictions': 0}, 'fielddata': {'memory_size_in_bytes': 0, 'evictions': 0, 'global_ordinals': {'build_time_in_millis': 0}}, 'completion': {'size_in_bytes': 0}, 'segments': {'count': 3, 'memory_in_bytes': 0, 'terms_memory_in_bytes': 0, 'stored_fields_memory_in_bytes': 0, 'term_vectors_memory_in_bytes': 0, 'norms_memory_in_bytes': 0, 'points_memory_in_bytes': 0, 'doc_values_memory_in_bytes': 0, 'index_writer_memory_in_bytes': 0, 'version_map_memory_in_bytes': 0, 'fixed_bit_set_memory_in_bytes': 0, 'max_unsafe_auto_id_timestamp': -1, 'file_sizes': {}}, 'translog': {'operations': 0, 'size_in_bytes': 55, 'uncommitted_operations': 0, 'uncommitted_size_in_bytes': 55, 'earliest_last_modified_age': 397736}, 'request_cache': {'memory_size_in_bytes': 0, 'evictions': 0, 'hit_count': 0, 'miss_count': 0}, 'recovery': {'current_as_source': 0, 'current_as_target': 0, 'throttle_time_in_millis': 0}, 'bulk': {'total_operations': 12, 'total_time_in_millis': 3238, 'total_size_in_bytes': 91575231, 'avg_time_in_millis': 193, 'avg_size_in_bytes': 5494655}, 'dense_vector': {'value_count': 1182}}, 'total': {'docs': {'count': 1182, 'deleted': 0, 'total_size_in_bytes': 86466706}, 'shard_stats': {'total_count': 1}, 'store': {'size_in_bytes': 86467211, 'total_data_set_size_in_bytes': 86467211, 'reserved_in_bytes': 0}, 'indexing': {'index_total': 1182, 'index_time_in_millis': 3149, 'index_current': 0, 'index_failed': 0, 'delete_total': 0, 'delete_time_in_millis': 0, 'delete_current': 0, 'noop_update_total': 0, 'is_throttled': False, 'throttle_time_in_millis': 0, 'write_load': 0.005242660263708502}, 'get': {'total': 0, 'time_in_millis': 0, 'exists_total': 0, 'exists_time_in_millis': 0, 'missing_total': 0, 'missing_time_in_millis': 0, 'current': 0}, 'search': {'open_contexts': 0, 'query_total': 0, 'query_time_in_millis': 0, 'query_current': 0, 'fetch_total': 0, 'fetch_time_in_millis': 0, 'fetch_current': 0, 'scroll_total': 0, 'scroll_time_in_millis': 0, 'scroll_current': 0, 'suggest_total': 0, 'suggest_time_in_millis': 0, 'suggest_current': 0}, 'merges': {'current': 0, 'current_docs': 0, 'current_size_in_bytes': 0, 'total': 0, 'total_time_in_millis': 0, 'total_docs': 0, 'total_size_in_bytes': 0, 'total_stopped_time_in_millis': 0, 'total_throttled_time_in_millis': 0, 'total_auto_throttle_in_bytes': 20971520}, 'refresh': {'total': 12, 'total_time_in_millis': 7, 'external_total': 8, 'external_total_time_in_millis': 0, 'listeners': 0}, 'flush': {'total': 4, 'periodic': 4, 'total_time_in_millis': 1144, 'total_time_excluding_waiting_on_lock_in_millis': 1144}, 'warmer': {'current': 0, 'total': 3, 'total_time_in_millis': 0}, 'query_cache': {'memory_size_in_bytes': 0, 'total_count': 0, 'hit_count': 0, 'miss_count': 0, 'cache_size': 0, 'cache_count': 0, 'evictions': 0}, 'fielddata': {'memory_size_in_bytes': 0, 'evictions': 0, 'global_ordinals': {'build_time_in_millis': 0}}, 'completion': {'size_in_bytes': 0}, 'segments': {'count': 3, 'memory_in_bytes': 0, 'terms_memory_in_bytes': 0, 'stored_fields_memory_in_bytes': 0, 'term_vectors_memory_in_bytes': 0, 'norms_memory_in_bytes': 0, 'points_memory_in_bytes': 0, 'doc_values_memory_in_bytes': 0, 'index_writer_memory_in_bytes': 0, 'version_map_memory_in_bytes': 0, 'fixed_bit_set_memory_in_bytes': 0, 'max_unsafe_auto_id_timestamp': -1, 'file_sizes': {}}, 'translog': {'operations': 0, 'size_in_bytes': 55, 'uncommitted_operations': 0, 'uncommitted_size_in_bytes': 55, 'earliest_last_modified_age': 397736}, 'request_cache': {'memory_size_in_bytes': 0, 'evictions': 0, 'hit_count': 0, 'miss_count': 0}, 'recovery': {'current_as_source': 0, 'current_as_target': 0, 'throttle_time_in_millis': 0}, 'bulk': {'total_operations': 12, 'total_time_in_millis': 3238, 'total_size_in_bytes': 91575231, 'avg_time_in_millis': 193, 'avg_size_in_bytes': 5494655}, 'dense_vector': {'value_count': 1182}}}}})"
      ]
     },
     "execution_count": 27,
     "metadata": {},
     "output_type": "execute_result"
    }
   ],
   "source": [
    "ESclient.indices.refresh(index=INDEX_NAME)\n",
    "ESclient.indices.stats(index=INDEX_NAME)"
   ]
  },
  {
   "cell_type": "markdown",
   "metadata": {},
   "source": [
    "## Error Handling"
   ]
  },
  {
   "cell_type": "code",
   "execution_count": 28,
   "metadata": {},
   "outputs": [
    {
     "data": {
      "text/plain": [
       "18"
      ]
     },
     "execution_count": 28,
     "metadata": {},
     "output_type": "execute_result"
    }
   ],
   "source": [
    "# Check if all docs are indexed\n",
    "len(dict_data['grants_data']['grant']) - ESclient.indices.stats(index=INDEX_NAME)['_all']['primaries']['docs']['count']"
   ]
  },
  {
   "cell_type": "code",
   "execution_count": 29,
   "metadata": {},
   "outputs": [
    {
     "name": "stdout",
     "output_type": "stream",
     "text": [
      "18\n"
     ]
    }
   ],
   "source": [
    "# find ids of docs which are not indexed\n",
    "ids = [item['@id'] for item in dict_data['grants_data']['grant']]\n",
    "failed_ids = index_utils.get_missing_ids(ESclient, INDEX_NAME, ids)\n",
    "print(len(failed_ids))"
   ]
  },
  {
   "cell_type": "code",
   "execution_count": 31,
   "metadata": {},
   "outputs": [],
   "source": [
    "body = index_utils.construct_actions_from_ids(dict_data, failed_ids, INDEX_NAME, pipeline_id=PIPELINE_ID)\n",
    "batches = embed_utils.batched(body, 100)\n",
    "# print(f\"Total batches = {len(batches)}\")"
   ]
  },
  {
   "cell_type": "code",
   "execution_count": 32,
   "metadata": {},
   "outputs": [
    {
     "name": "stdout",
     "output_type": "stream",
     "text": [
      "Failed to index document {'index': {'_index': 'distill_index', '_id': '418497', 'status': 400, 'error': {'type': 'document_parsing_exception', 'reason': \"[1:120773] failed to parse field [submission_info_truncate_length] of type [short] in document with id '418497'. Preview of field's value: '35422'\", 'caused_by': {'type': 'x_content_parse_exception', 'reason': '[1:120778] Numeric value (35422) out of range of Java short\\n at [Source: (byte[])\"{\"embeddings\":[-0.0049305316348109305,-8.560951884688183E-4,-0.026457419478486635,0.00850732909740603,0.012545657315650998,-0.005710840093466355,-0.006989561287496217,0.03817654526047908,8.646485668558175E-4,0.02576429419408808,0.06800553745842478,-0.028453574230312476,0.04830401718780571,-0.03659440332510236,-0.018821429393144042,0.03255232802679213,-0.029765837743032413,0.00303543348732425,-0.01842438014009812,-0.019218422076305967,0.007155488203341389,-0.008316820321210028,-0.0202636696297617\"[truncated 129489 bytes]; line: 1, column: 120778]', 'caused_by': {'type': 'input_coercion_exception', 'reason': 'Numeric value (35422) out of range of Java short\\n at [Source: (byte[])\"{\"embeddings\":[-0.0049305316348109305,-8.560951884688183E-4,-0.026457419478486635,0.00850732909740603,0.012545657315650998,-0.005710840093466355,-0.006989561287496217,0.03817654526047908,8.646485668558175E-4,0.02576429419408808,0.06800553745842478,-0.028453574230312476,0.04830401718780571,-0.03659440332510236,-0.018821429393144042,0.03255232802679213,-0.029765837743032413,0.00303543348732425,-0.01842438014009812,-0.019218422076305967,0.007155488203341389,-0.008316820321210028,-0.0202636696297617\"[truncated 129489 bytes]; line: 1, column: 120778]'}}}}}\n",
      "Failed to index document {'index': {'_index': 'distill_index', '_id': '418499', 'status': 400, 'error': {'type': 'document_parsing_exception', 'reason': \"[1:121016] failed to parse field [submission_info_truncate_length] of type [short] in document with id '418499'. Preview of field's value: '35422'\", 'caused_by': {'type': 'x_content_parse_exception', 'reason': '[1:121021] Numeric value (35422) out of range of Java short\\n at [Source: (byte[])\"{\"embeddings\":[-0.00941618510055579,-0.001969375535171451,-0.029494598917636384,0.01041851125604692,0.013884627461864606,-0.015731538509433755,-0.008949236753872651,0.03732052421739622,-9.673788105225913E-4,0.03004663418811474,0.06003398316726356,-0.03294265801786766,0.04603469835419257,-0.03483140335653918,-0.020379962180998152,0.03731850715473517,-0.03588907348188322,0.016142413073947183,-0.020602826267378156,-0.010170162861979751,6.272160746696508E-4,-0.0077916877349789955,-0.0211308573028328\"[truncated 129918 bytes]; line: 1, column: 121021]', 'caused_by': {'type': 'input_coercion_exception', 'reason': 'Numeric value (35422) out of range of Java short\\n at [Source: (byte[])\"{\"embeddings\":[-0.00941618510055579,-0.001969375535171451,-0.029494598917636384,0.01041851125604692,0.013884627461864606,-0.015731538509433755,-0.008949236753872651,0.03732052421739622,-9.673788105225913E-4,0.03004663418811474,0.06003398316726356,-0.03294265801786766,0.04603469835419257,-0.03483140335653918,-0.020379962180998152,0.03731850715473517,-0.03588907348188322,0.016142413073947183,-0.020602826267378156,-0.010170162861979751,6.272160746696508E-4,-0.0077916877349789955,-0.0211308573028328\"[truncated 129918 bytes]; line: 1, column: 121021]'}}}}}\n",
      "Failed to index document {'index': {'_index': 'distill_index', '_id': '418501', 'status': 400, 'error': {'type': 'document_parsing_exception', 'reason': \"[1:120657] failed to parse field [submission_info_truncate_length] of type [short] in document with id '418501'. Preview of field's value: '35422'\", 'caused_by': {'type': 'x_content_parse_exception', 'reason': '[1:120662] Numeric value (35422) out of range of Java short\\n at [Source: (byte[])\"{\"embeddings\":[-0.005825826610516031,0.00515385612915683,-0.02922588847281889,0.009335090850786048,0.011470328167266303,-0.0068376716563237246,-0.0060772683968565566,0.04231121220116938,0.0011356559765421,0.028587615574207963,0.06716310602856261,-0.031086156886997084,0.04943165481743619,-0.03429569586557705,-0.017960620936511778,0.04145704430816451,-0.03572247320718746,0.009200769244067226,-0.021200526343904198,-0.01484219795507393,0.007415888151035443,-0.014648465752727987,-0.011856378483538424\"[truncated 129297 bytes]; line: 1, column: 120662]', 'caused_by': {'type': 'input_coercion_exception', 'reason': 'Numeric value (35422) out of range of Java short\\n at [Source: (byte[])\"{\"embeddings\":[-0.005825826610516031,0.00515385612915683,-0.02922588847281889,0.009335090850786048,0.011470328167266303,-0.0068376716563237246,-0.0060772683968565566,0.04231121220116938,0.0011356559765421,0.028587615574207963,0.06716310602856261,-0.031086156886997084,0.04943165481743619,-0.03429569586557705,-0.017960620936511778,0.04145704430816451,-0.03572247320718746,0.009200769244067226,-0.021200526343904198,-0.01484219795507393,0.007415888151035443,-0.014648465752727987,-0.011856378483538424\"[truncated 129297 bytes]; line: 1, column: 120662]'}}}}}\n",
      "Failed to index document {'index': {'_index': 'distill_index', '_id': '418503', 'status': 400, 'error': {'type': 'document_parsing_exception', 'reason': \"[1:120469] failed to parse field [submission_info_truncate_length] of type [short] in document with id '418503'. Preview of field's value: '35422'\", 'caused_by': {'type': 'x_content_parse_exception', 'reason': '[1:120474] Numeric value (35422) out of range of Java short\\n at [Source: (byte[])\"{\"embeddings\":[-7.047474064769003E-4,0.001193349814907447,-0.029073717274306653,0.012921392555528804,0.009746463792002981,-0.012141949139078284,-0.009763371776575587,0.04015126601952156,0.004199590798383714,0.026172755954687196,0.07030448317018466,-0.024472827237191724,0.048803559239824316,-0.02978345934249587,-0.01862890173007907,0.04243399967484993,-0.02600790163651608,0.010290439528443655,-0.020428465264438467,-0.015740697772243337,0.007967757390946009,-0.010516783729441663,-0.021610429609045\"[truncated 129530 bytes]; line: 1, column: 120474]', 'caused_by': {'type': 'input_coercion_exception', 'reason': 'Numeric value (35422) out of range of Java short\\n at [Source: (byte[])\"{\"embeddings\":[-7.047474064769003E-4,0.001193349814907447,-0.029073717274306653,0.012921392555528804,0.009746463792002981,-0.012141949139078284,-0.009763371776575587,0.04015126601952156,0.004199590798383714,0.026172755954687196,0.07030448317018466,-0.024472827237191724,0.048803559239824316,-0.02978345934249587,-0.01862890173007907,0.04243399967484993,-0.02600790163651608,0.010290439528443655,-0.020428465264438467,-0.015740697772243337,0.007967757390946009,-0.010516783729441663,-0.021610429609045\"[truncated 129530 bytes]; line: 1, column: 120474]'}}}}}\n",
      "Failed to index document {'index': {'_index': 'distill_index', '_id': '418505', 'status': 400, 'error': {'type': 'document_parsing_exception', 'reason': \"[1:120176] failed to parse field [submission_info_truncate_length] of type [short] in document with id '418505'. Preview of field's value: '35422'\", 'caused_by': {'type': 'x_content_parse_exception', 'reason': '[1:120181] Numeric value (35422) out of range of Java short\\n at [Source: (byte[])\"{\"embeddings\":[-5.619720520689942E-4,0.004730911753152535,-0.02809679193733988,0.01681694831320999,0.015505720235851256,-0.016090829626200287,-0.0063107884803044,0.03986611294400027,0.01106923908009749,0.027884804428496755,0.062124097026568056,-0.031433658944084605,0.057500009621664766,-0.03070330141979549,-0.013073024332906932,0.04275679110415247,-0.03299380047030105,0.006210873360190273,-0.021912852140298086,-0.016807373474686266,0.0038292942860998678,-0.01549622204806135,-0.01601080658661187,\"[truncated 129051 bytes]; line: 1, column: 120181]', 'caused_by': {'type': 'input_coercion_exception', 'reason': 'Numeric value (35422) out of range of Java short\\n at [Source: (byte[])\"{\"embeddings\":[-5.619720520689942E-4,0.004730911753152535,-0.02809679193733988,0.01681694831320999,0.015505720235851256,-0.016090829626200287,-0.0063107884803044,0.03986611294400027,0.01106923908009749,0.027884804428496755,0.062124097026568056,-0.031433658944084605,0.057500009621664766,-0.03070330141979549,-0.013073024332906932,0.04275679110415247,-0.03299380047030105,0.006210873360190273,-0.021912852140298086,-0.016807373474686266,0.0038292942860998678,-0.01549622204806135,-0.01601080658661187,\"[truncated 129051 bytes]; line: 1, column: 120181]'}}}}}\n",
      "Failed to index document {'index': {'_index': 'distill_index', '_id': '418507', 'status': 400, 'error': {'type': 'document_parsing_exception', 'reason': \"[1:121877] failed to parse field [submission_info_truncate_length] of type [short] in document with id '418507'. Preview of field's value: '35422'\", 'caused_by': {'type': 'x_content_parse_exception', 'reason': '[1:121882] Numeric value (35422) out of range of Java short\\n at [Source: (byte[])\"{\"embeddings\":[-0.009017880106438333,0.009684336109983965,-0.02847774090242979,0.013764230160240759,0.015223997175865294,-0.013120478748873237,-0.0045042508680599985,0.03401136463352264,0.0022505085818555295,0.01655848611023069,0.06957429744823869,-0.028833633530818727,0.040190109661690204,-0.037216993192017066,-0.0255168094525898,0.029361906850901343,-0.026074595479458753,0.01326331324037438,-0.013400655945885354,-0.008297646313233091,-0.0018301165523321719,-0.011339001687785804,-0.014221243966\"[truncated 130729 bytes]; line: 1, column: 121882]', 'caused_by': {'type': 'input_coercion_exception', 'reason': 'Numeric value (35422) out of range of Java short\\n at [Source: (byte[])\"{\"embeddings\":[-0.009017880106438333,0.009684336109983965,-0.02847774090242979,0.013764230160240759,0.015223997175865294,-0.013120478748873237,-0.0045042508680599985,0.03401136463352264,0.0022505085818555295,0.01655848611023069,0.06957429744823869,-0.028833633530818727,0.040190109661690204,-0.037216993192017066,-0.0255168094525898,0.029361906850901343,-0.026074595479458753,0.01326331324037438,-0.013400655945885354,-0.008297646313233091,-0.0018301165523321719,-0.011339001687785804,-0.014221243966\"[truncated 130729 bytes]; line: 1, column: 121882]'}}}}}\n",
      "Failed to index document {'index': {'_index': 'distill_index', '_id': '418514', 'status': 400, 'error': {'type': 'document_parsing_exception', 'reason': \"[1:120473] failed to parse field [submission_info_truncate_length] of type [short] in document with id '418514'. Preview of field's value: '35422'\", 'caused_by': {'type': 'x_content_parse_exception', 'reason': '[1:120478] Numeric value (35422) out of range of Java short\\n at [Source: (byte[])\"{\"embeddings\":[-0.010351712864942847,0.002945848473453486,-0.02797879695722533,0.013174706433841103,0.017479311621105907,-0.012359835778541448,-0.015419417011844586,0.029282273678494605,0.0046161958360827204,0.019009978779221216,0.05940112546518822,-0.021662008903763835,0.05159009460847398,-0.03639582976834404,-0.017725206573612737,0.030291501938534797,-0.03213565825972673,0.00798081940767168,-0.009090519703983078,-0.015919636236562548,-4.632326237979642E-4,-0.010048254723346767,-0.0099690766871\"[truncated 129246 bytes]; line: 1, column: 120478]', 'caused_by': {'type': 'input_coercion_exception', 'reason': 'Numeric value (35422) out of range of Java short\\n at [Source: (byte[])\"{\"embeddings\":[-0.010351712864942847,0.002945848473453486,-0.02797879695722533,0.013174706433841103,0.017479311621105907,-0.012359835778541448,-0.015419417011844586,0.029282273678494605,0.0046161958360827204,0.019009978779221216,0.05940112546518822,-0.021662008903763835,0.05159009460847398,-0.03639582976834404,-0.017725206573612737,0.030291501938534797,-0.03213565825972673,0.00798081940767168,-0.009090519703983078,-0.015919636236562548,-4.632326237979642E-4,-0.010048254723346767,-0.0099690766871\"[truncated 129246 bytes]; line: 1, column: 120478]'}}}}}\n",
      "Failed to index document {'index': {'_index': 'distill_index', '_id': '418518', 'status': 400, 'error': {'type': 'document_parsing_exception', 'reason': \"[1:121764] failed to parse field [submission_info_truncate_length] of type [short] in document with id '418518'. Preview of field's value: '35422'\", 'caused_by': {'type': 'x_content_parse_exception', 'reason': '[1:121769] Numeric value (35422) out of range of Java short\\n at [Source: (byte[])\"{\"embeddings\":[-0.003468902427643238,0.012821023303104794,-0.029327774414560474,0.009914621260865224,0.017011412300904104,-0.018347499757257923,-0.006336037107108025,0.042028101594668965,0.009438932256789186,0.028736943595550426,0.06009872395689765,-0.03755532175484714,0.051858756421338345,-0.0315026713679488,-0.01534362582947935,0.028922693973311903,-0.025689147931758766,0.010951818038688721,-0.02791560953580835,-0.017755141911377906,0.0041805189249783424,-0.01185178988051542,-0.011751167145623\"[truncated 130712 bytes]; line: 1, column: 121769]', 'caused_by': {'type': 'input_coercion_exception', 'reason': 'Numeric value (35422) out of range of Java short\\n at [Source: (byte[])\"{\"embeddings\":[-0.003468902427643238,0.012821023303104794,-0.029327774414560474,0.009914621260865224,0.017011412300904104,-0.018347499757257923,-0.006336037107108025,0.042028101594668965,0.009438932256789186,0.028736943595550426,0.06009872395689765,-0.03755532175484714,0.051858756421338345,-0.0315026713679488,-0.01534362582947935,0.028922693973311903,-0.025689147931758766,0.010951818038688721,-0.02791560953580835,-0.017755141911377906,0.0041805189249783424,-0.01185178988051542,-0.011751167145623\"[truncated 130712 bytes]; line: 1, column: 121769]'}}}}}\n",
      "Failed to index document {'index': {'_index': 'distill_index', '_id': '418524', 'status': 400, 'error': {'type': 'document_parsing_exception', 'reason': \"[1:120707] failed to parse field [submission_info_truncate_length] of type [short] in document with id '418524'. Preview of field's value: '35422'\", 'caused_by': {'type': 'x_content_parse_exception', 'reason': '[1:120712] Numeric value (35422) out of range of Java short\\n at [Source: (byte[])\"{\"embeddings\":[-0.007528678821145743,0.0019031654772751682,-0.029379820095581145,0.014770763414907576,0.012069866049171341,-0.01081761005620939,-0.0033016560553561893,0.03780284706737037,0.009202497132128331,0.03069102858903832,0.06355065788024176,-0.027477620407741318,0.05026875978519271,-0.0404825494002027,-0.020415983138599422,0.038258722225019595,-0.026452179804009286,0.01678376602013952,-0.027569944515468976,-0.012724411330616754,-0.001021848351732149,-0.011330762857186174,-0.01915078365363\"[truncated 129636 bytes]; line: 1, column: 120712]', 'caused_by': {'type': 'input_coercion_exception', 'reason': 'Numeric value (35422) out of range of Java short\\n at [Source: (byte[])\"{\"embeddings\":[-0.007528678821145743,0.0019031654772751682,-0.029379820095581145,0.014770763414907576,0.012069866049171341,-0.01081761005620939,-0.0033016560553561893,0.03780284706737037,0.009202497132128331,0.03069102858903832,0.06355065788024176,-0.027477620407741318,0.05026875978519271,-0.0404825494002027,-0.020415983138599422,0.038258722225019595,-0.026452179804009286,0.01678376602013952,-0.027569944515468976,-0.012724411330616754,-0.001021848351732149,-0.011330762857186174,-0.01915078365363\"[truncated 129636 bytes]; line: 1, column: 120712]'}}}}}\n",
      "Failed to index document {'index': {'_index': 'distill_index', '_id': '418526', 'status': 400, 'error': {'type': 'document_parsing_exception', 'reason': \"[1:120766] failed to parse field [submission_info_truncate_length] of type [short] in document with id '418526'. Preview of field's value: '35422'\", 'caused_by': {'type': 'x_content_parse_exception', 'reason': '[1:120771] Numeric value (35422) out of range of Java short\\n at [Source: (byte[])\"{\"embeddings\":[-0.002243427423874141,0.006898212274180922,-0.030131712024451297,0.01373291146283455,0.020769176833469315,-0.012553521478891263,-0.005583715525127236,0.041310801598226254,0.006326168381937614,0.02314425067018034,0.06156391230869352,-0.033548635130544964,0.05128461302043465,-0.038614206972148415,-0.02260492284811003,0.04017994980866528,-0.03564267840317707,0.015640006676420733,-0.0316800146416214,-0.013382870835717842,0.0026994105727146567,-0.009821769972263061,-0.01577562156328301\"[truncated 129860 bytes]; line: 1, column: 120771]', 'caused_by': {'type': 'input_coercion_exception', 'reason': 'Numeric value (35422) out of range of Java short\\n at [Source: (byte[])\"{\"embeddings\":[-0.002243427423874141,0.006898212274180922,-0.030131712024451297,0.01373291146283455,0.020769176833469315,-0.012553521478891263,-0.005583715525127236,0.041310801598226254,0.006326168381937614,0.02314425067018034,0.06156391230869352,-0.033548635130544964,0.05128461302043465,-0.038614206972148415,-0.02260492284811003,0.04017994980866528,-0.03564267840317707,0.015640006676420733,-0.0316800146416214,-0.013382870835717842,0.0026994105727146567,-0.009821769972263061,-0.01577562156328301\"[truncated 129860 bytes]; line: 1, column: 120771]'}}}}}\n",
      "Failed to index document {'index': {'_index': 'distill_index', '_id': '418528', 'status': 400, 'error': {'type': 'document_parsing_exception', 'reason': \"[1:120599] failed to parse field [submission_info_truncate_length] of type [short] in document with id '418528'. Preview of field's value: '35422'\", 'caused_by': {'type': 'x_content_parse_exception', 'reason': '[1:120604] Numeric value (35422) out of range of Java short\\n at [Source: (byte[])\"{\"embeddings\":[-0.0042047350639756835,0.006219591578845832,-0.03007911127983205,0.011034351621428644,0.023122419968445274,-0.009534408231957312,-0.003958986965516797,0.03952188702404843,0.003002109525397921,0.028529348086826826,0.06057392657786124,-0.02936427979810183,0.04824965135589478,-0.031451036654688416,-0.02109202393645946,0.04175038305258224,-0.029306296472798525,0.013785600079112567,-0.025282048842148432,-0.012426939046047926,0.005640267698459402,-0.005511347546888428,-0.017148178702662\"[truncated 129738 bytes]; line: 1, column: 120604]', 'caused_by': {'type': 'input_coercion_exception', 'reason': 'Numeric value (35422) out of range of Java short\\n at [Source: (byte[])\"{\"embeddings\":[-0.0042047350639756835,0.006219591578845832,-0.03007911127983205,0.011034351621428644,0.023122419968445274,-0.009534408231957312,-0.003958986965516797,0.03952188702404843,0.003002109525397921,0.028529348086826826,0.06057392657786124,-0.02936427979810183,0.04824965135589478,-0.031451036654688416,-0.02109202393645946,0.04175038305258224,-0.029306296472798525,0.013785600079112567,-0.025282048842148432,-0.012426939046047926,0.005640267698459402,-0.005511347546888428,-0.017148178702662\"[truncated 129738 bytes]; line: 1, column: 120604]'}}}}}\n",
      "Failed to index document {'index': {'_index': 'distill_index', '_id': '418529', 'status': 400, 'error': {'type': 'document_parsing_exception', 'reason': \"[1:120681] failed to parse field [submission_info_truncate_length] of type [short] in document with id '418529'. Preview of field's value: '35422'\", 'caused_by': {'type': 'x_content_parse_exception', 'reason': '[1:120686] Numeric value (35422) out of range of Java short\\n at [Source: (byte[])\"{\"embeddings\":[-0.009823701405986944,0.0011561953445854572,-0.029487170398838938,0.007032146691944972,0.009701817868865899,-0.022096260666078425,-0.007992392034984872,0.04121660193682331,-0.0029580355388957695,0.022351990951351295,0.0644680198562472,-0.030177963054313306,0.049751986015457494,-0.03650236844489111,-0.016147973210436026,0.039922523075261396,-0.029926608697006935,0.014549499839829864,-0.019201676385445485,-0.008294202880924863,0.0026280808688116304,-0.008453879693838977,-0.016267501\"[truncated 129699 bytes]; line: 1, column: 120686]', 'caused_by': {'type': 'input_coercion_exception', 'reason': 'Numeric value (35422) out of range of Java short\\n at [Source: (byte[])\"{\"embeddings\":[-0.009823701405986944,0.0011561953445854572,-0.029487170398838938,0.007032146691944972,0.009701817868865899,-0.022096260666078425,-0.007992392034984872,0.04121660193682331,-0.0029580355388957695,0.022351990951351295,0.0644680198562472,-0.030177963054313306,0.049751986015457494,-0.03650236844489111,-0.016147973210436026,0.039922523075261396,-0.029926608697006935,0.014549499839829864,-0.019201676385445485,-0.008294202880924863,0.0026280808688116304,-0.008453879693838977,-0.016267501\"[truncated 129699 bytes]; line: 1, column: 120686]'}}}}}\n",
      "Failed to index document {'index': {'_index': 'distill_index', '_id': '418530', 'status': 400, 'error': {'type': 'document_parsing_exception', 'reason': \"[1:120160] failed to parse field [submission_info_truncate_length] of type [short] in document with id '418530'. Preview of field's value: '35422'\", 'caused_by': {'type': 'x_content_parse_exception', 'reason': '[1:120165] Numeric value (35422) out of range of Java short\\n at [Source: (byte[])\"{\"embeddings\":[0.00474545878187886,0.005772306976204436,-0.02687678614212399,0.00921547201926976,0.019914368915934896,-0.01199068704665772,-0.00826037857740359,0.03979947869468351,0.0024205956902971196,0.024229537382839818,0.06440791551077138,-0.030249603217867342,0.0537637947516881,-0.031185997705558747,-0.012452346102665145,0.03125428568028453,-0.034628172883460956,0.008579080526754336,-0.020118265542778995,-0.010620539221347631,-4.8625484409736295E-4,-0.010457471135101353,-0.01693533570661149\"[truncated 129006 bytes]; line: 1, column: 120165]', 'caused_by': {'type': 'input_coercion_exception', 'reason': 'Numeric value (35422) out of range of Java short\\n at [Source: (byte[])\"{\"embeddings\":[0.00474545878187886,0.005772306976204436,-0.02687678614212399,0.00921547201926976,0.019914368915934896,-0.01199068704665772,-0.00826037857740359,0.03979947869468351,0.0024205956902971196,0.024229537382839818,0.06440791551077138,-0.030249603217867342,0.0537637947516881,-0.031185997705558747,-0.012452346102665145,0.03125428568028453,-0.034628172883460956,0.008579080526754336,-0.020118265542778995,-0.010620539221347631,-4.8625484409736295E-4,-0.010457471135101353,-0.01693533570661149\"[truncated 129006 bytes]; line: 1, column: 120165]'}}}}}\n",
      "Failed to index document {'index': {'_index': 'distill_index', '_id': '418532', 'status': 400, 'error': {'type': 'document_parsing_exception', 'reason': \"[1:120294] failed to parse field [submission_info_truncate_length] of type [short] in document with id '418532'. Preview of field's value: '35422'\", 'caused_by': {'type': 'x_content_parse_exception', 'reason': '[1:120299] Numeric value (35422) out of range of Java short\\n at [Source: (byte[])\"{\"embeddings\":[-0.005046609927724469,0.00925063946785953,-0.02742772371234084,0.012108296453309403,0.022506397112898764,-0.01995800431023656,-0.0018859762608181944,0.03846563276006827,0.00996530389410668,0.021997516549157648,0.06084715267138237,-0.03134916157031421,0.05874292299162158,-0.03689183579636813,-0.017726283880325957,0.027720291070738413,-0.03337981636004313,0.008911897471850271,-0.01893165456543175,-0.013509574828970104,0.003942303157706205,-0.0072957825063188165,-0.01722448742155283,\"[truncated 129286 bytes]; line: 1, column: 120299]', 'caused_by': {'type': 'input_coercion_exception', 'reason': 'Numeric value (35422) out of range of Java short\\n at [Source: (byte[])\"{\"embeddings\":[-0.005046609927724469,0.00925063946785953,-0.02742772371234084,0.012108296453309403,0.022506397112898764,-0.01995800431023656,-0.0018859762608181944,0.03846563276006827,0.00996530389410668,0.021997516549157648,0.06084715267138237,-0.03134916157031421,0.05874292299162158,-0.03689183579636813,-0.017726283880325957,0.027720291070738413,-0.03337981636004313,0.008911897471850271,-0.01893165456543175,-0.013509574828970104,0.003942303157706205,-0.0072957825063188165,-0.01722448742155283,\"[truncated 129286 bytes]; line: 1, column: 120299]'}}}}}\n",
      "Failed to index document {'index': {'_index': 'distill_index', '_id': '418533', 'status': 400, 'error': {'type': 'document_parsing_exception', 'reason': \"[1:120362] failed to parse field [submission_info_truncate_length] of type [short] in document with id '418533'. Preview of field's value: '35422'\", 'caused_by': {'type': 'x_content_parse_exception', 'reason': '[1:120367] Numeric value (35422) out of range of Java short\\n at [Source: (byte[])\"{\"embeddings\":[-0.00795166698216727,0.0069925793025940736,-0.028058438187066728,0.012607338370374267,0.01911787884063997,-0.009203325107112666,-0.0057542265031167595,0.04323945717041463,0.0019517841527446355,0.022806320308099776,0.06483577708930713,-0.03007844458364176,0.04697917272868028,-0.04209728465369099,-0.02186686253992247,0.034199463265908586,-0.028707451280018233,0.017338524615384196,-0.02025611575066665,-0.01382204408924085,0.007001974060170239,-0.017425601797904082,-0.0168274217901456\"[truncated 129018 bytes]; line: 1, column: 120367]', 'caused_by': {'type': 'input_coercion_exception', 'reason': 'Numeric value (35422) out of range of Java short\\n at [Source: (byte[])\"{\"embeddings\":[-0.00795166698216727,0.0069925793025940736,-0.028058438187066728,0.012607338370374267,0.01911787884063997,-0.009203325107112666,-0.0057542265031167595,0.04323945717041463,0.0019517841527446355,0.022806320308099776,0.06483577708930713,-0.03007844458364176,0.04697917272868028,-0.04209728465369099,-0.02186686253992247,0.034199463265908586,-0.028707451280018233,0.017338524615384196,-0.02025611575066665,-0.01382204408924085,0.007001974060170239,-0.017425601797904082,-0.0168274217901456\"[truncated 129018 bytes]; line: 1, column: 120367]'}}}}}\n",
      "Failed to index document {'index': {'_index': 'distill_index', '_id': '418535', 'status': 400, 'error': {'type': 'document_parsing_exception', 'reason': \"[1:122960] failed to parse field [submission_info_truncate_length] of type [short] in document with id '418535'. Preview of field's value: '35422'\", 'caused_by': {'type': 'x_content_parse_exception', 'reason': '[1:122965] Numeric value (35422) out of range of Java short\\n at [Source: (byte[])\"{\"embeddings\":[-0.01181505689033149,0.003988099502558894,-0.028491110441070406,0.01387130931678639,0.025144063160002495,-0.006640416018423343,-0.007358742726522525,0.04337720595042617,0.011459610785449702,0.03628745402614279,0.05517239955515741,-0.039904437038961287,0.0489448367901224,-0.030974452506596157,-0.02472786131953432,0.03260663568018075,-0.021437093991468776,0.011299712089615556,-0.02480359336202898,-0.01950047151669431,3.49106461364718E-4,-0.007129783312567888,-0.02196273378743373,0.0\"[truncated 131819 bytes]; line: 1, column: 122965]', 'caused_by': {'type': 'input_coercion_exception', 'reason': 'Numeric value (35422) out of range of Java short\\n at [Source: (byte[])\"{\"embeddings\":[-0.01181505689033149,0.003988099502558894,-0.028491110441070406,0.01387130931678639,0.025144063160002495,-0.006640416018423343,-0.007358742726522525,0.04337720595042617,0.011459610785449702,0.03628745402614279,0.05517239955515741,-0.039904437038961287,0.0489448367901224,-0.030974452506596157,-0.02472786131953432,0.03260663568018075,-0.021437093991468776,0.011299712089615556,-0.02480359336202898,-0.01950047151669431,3.49106461364718E-4,-0.007129783312567888,-0.02196273378743373,0.0\"[truncated 131819 bytes]; line: 1, column: 122965]'}}}}}\n",
      "Failed to index document {'index': {'_index': 'distill_index', '_id': '418537', 'status': 400, 'error': {'type': 'document_parsing_exception', 'reason': \"[1:121822] failed to parse field [submission_info_truncate_length] of type [short] in document with id '418537'. Preview of field's value: '35422'\", 'caused_by': {'type': 'x_content_parse_exception', 'reason': '[1:121827] Numeric value (35422) out of range of Java short\\n at [Source: (byte[])\"{\"embeddings\":[-0.00796238406049125,0.0025346807660529278,-0.026239181065800445,0.017011197969029872,0.020074681378438285,-0.017897693642981452,-0.003583715511495801,0.04454103961497384,0.011934480064031177,0.035703198262625115,0.06206144974537594,-0.029886813543420352,0.052758581857519395,-0.031073701047183544,-0.024737671117741833,0.042044103638024674,-0.030001456199963087,0.017160377072105538,-0.028827067261422448,-0.013852682304345259,-7.303285340648887E-4,-0.005449770310601684,-0.0151392012\"[truncated 130716 bytes]; line: 1, column: 121827]', 'caused_by': {'type': 'input_coercion_exception', 'reason': 'Numeric value (35422) out of range of Java short\\n at [Source: (byte[])\"{\"embeddings\":[-0.00796238406049125,0.0025346807660529278,-0.026239181065800445,0.017011197969029872,0.020074681378438285,-0.017897693642981452,-0.003583715511495801,0.04454103961497384,0.011934480064031177,0.035703198262625115,0.06206144974537594,-0.029886813543420352,0.052758581857519395,-0.031073701047183544,-0.024737671117741833,0.042044103638024674,-0.030001456199963087,0.017160377072105538,-0.028827067261422448,-0.013852682304345259,-7.303285340648887E-4,-0.005449770310601684,-0.0151392012\"[truncated 130716 bytes]; line: 1, column: 121827]'}}}}}\n",
      "Failed to index document {'index': {'_index': 'distill_index', '_id': '418540', 'status': 400, 'error': {'type': 'document_parsing_exception', 'reason': \"[1:122324] failed to parse field [submission_info_truncate_length] of type [short] in document with id '418540'. Preview of field's value: '35422'\", 'caused_by': {'type': 'x_content_parse_exception', 'reason': '[1:122329] Numeric value (35422) out of range of Java short\\n at [Source: (byte[])\"{\"embeddings\":[-0.01937772155703051,0.00937158029810449,-0.03049274294012807,0.016311994224309442,0.02105575379309373,-0.01036047171842439,-0.004979049396863083,0.04687870465525314,0.00942975912285867,0.03153218183884122,0.0613005075287875,-0.037599083949964966,0.0543915153376888,-0.030711612272212682,-0.024333363343137855,0.02982908190753235,-0.029663612121639107,0.012408797049776507,-0.024385036698057097,-0.016770759310646192,0.003306344935308679,0.002203534933085834,-0.021021223893715434,5.91\"[truncated 131184 bytes]; line: 1, column: 122329]', 'caused_by': {'type': 'input_coercion_exception', 'reason': 'Numeric value (35422) out of range of Java short\\n at [Source: (byte[])\"{\"embeddings\":[-0.01937772155703051,0.00937158029810449,-0.03049274294012807,0.016311994224309442,0.02105575379309373,-0.01036047171842439,-0.004979049396863083,0.04687870465525314,0.00942975912285867,0.03153218183884122,0.0613005075287875,-0.037599083949964966,0.0543915153376888,-0.030711612272212682,-0.024333363343137855,0.02982908190753235,-0.029663612121639107,0.012408797049776507,-0.024385036698057097,-0.016770759310646192,0.003306344935308679,0.002203534933085834,-0.021021223893715434,5.91\"[truncated 131184 bytes]; line: 1, column: 122329]'}}}}}\n",
      "Batch 0 done\n"
     ]
    }
   ],
   "source": [
    "for n,batch in enumerate(batches):\n",
    "    index_utils.bulk_index_documents(ESclient, batch, chunk_size=100)\n",
    "    print(f\"Batch {n} done\")"
   ]
  },
  {
   "cell_type": "code",
   "execution_count": 33,
   "metadata": {},
   "outputs": [
    {
     "name": "stdout",
     "output_type": "stream",
     "text": [
      "18\n"
     ]
    }
   ],
   "source": [
    "print(len(index_utils.get_missing_ids(ESclient, INDEX_NAME, ids)))"
   ]
  },
  {
   "cell_type": "code",
   "execution_count": 34,
   "metadata": {},
   "outputs": [
    {
     "name": "stdout",
     "output_type": "stream",
     "text": [
      "0\n"
     ]
    }
   ],
   "source": [
    "# find ids of docs that where creation of embeddings failed\n",
    "failed_ids = index_utils.get_failed_embedding_ids(ESclient, INDEX_NAME)\n",
    "print(len(failed_ids))"
   ]
  },
  {
   "cell_type": "code",
   "execution_count": null,
   "metadata": {},
   "outputs": [],
   "source": [
    "body = index_utils.construct_actions_from_ids(dict_data, failed_ids, INDEX_NAME, pipeline_id=PIPELINE_ID)\n",
    "batches = embed_utils.batched(body, 100)\n",
    "print(f\"Total batches = {len(batches)}\")"
   ]
  },
  {
   "cell_type": "code",
   "execution_count": null,
   "metadata": {},
   "outputs": [],
   "source": [
    "for n,batch in enumerate(batches):\n",
    "    index_utils.bulk_index_documents(ESclient, batch, chunk_size=100)\n",
    "    print(f\"Batch {n} done\")"
   ]
  },
  {
   "cell_type": "code",
   "execution_count": 35,
   "metadata": {},
   "outputs": [
    {
     "name": "stdout",
     "output_type": "stream",
     "text": [
      "0\n"
     ]
    }
   ],
   "source": [
    "print(len(index_utils.get_failed_embedding_ids(ESclient, INDEX_NAME)))"
   ]
  }
 ],
 "metadata": {
  "kernelspec": {
   "display_name": "search_env",
   "language": "python",
   "name": "python3"
  },
  "language_info": {
   "codemirror_mode": {
    "name": "ipython",
    "version": 3
   },
   "file_extension": ".py",
   "mimetype": "text/x-python",
   "name": "python",
   "nbconvert_exporter": "python",
   "pygments_lexer": "ipython3",
   "version": "3.12.4"
  }
 },
 "nbformat": 4,
 "nbformat_minor": 2
}
